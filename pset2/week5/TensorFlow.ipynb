{
  "cells": [
    {
      "cell_type": "markdown",
      "metadata": {
        "tags": [
          "pdf-title"
        ],
        "id": "dfknar-Mf4o4"
      },
      "source": [
        "# What's this TensorFlow business?\n",
        "\n",
        "You've written a lot of code in this assignment to provide a whole host of neural network functionality. Dropout, Batch Norm, and 2D convolutions are some of the workhorses of deep learning in computer vision. You've also worked hard to make your code efficient and vectorized.\n",
        "\n",
        "For the last part of this assignment, though, we're going to leave behind your beautiful codebase and instead migrate to one of two popular deep learning frameworks: in this instance, TensorFlow (or PyTorch, if you choose to work with that notebook)."
      ]
    },
    {
      "cell_type": "markdown",
      "metadata": {
        "tags": [
          "pdf-ignore"
        ],
        "id": "V3URbC9bf4o6"
      },
      "source": [
        "#### What is it?\n",
        "TensorFlow is a system for executing computational graphs over Tensor objects, with native support for performing backpropogation for its Variables. In it, we work with Tensors which are n-dimensional arrays analogous to the numpy ndarray.\n",
        "\n",
        "#### Why?\n",
        "\n",
        "* Our code will now run on GPUs! Much faster training. Writing your own modules to run on GPUs is beyond the scope of this class, unfortunately.\n",
        "* We want you to be ready to use one of these frameworks for your project so you can experiment more efficiently than if you were writing every feature you want to use by hand. \n",
        "* We want you to stand on the shoulders of giants! TensorFlow and PyTorch are both excellent frameworks that will make your lives a lot easier, and now that you understand their guts, you are free to use them :) \n",
        "* We want you to be exposed to the sort of deep learning code you might run into in academia or industry. "
      ]
    },
    {
      "cell_type": "markdown",
      "metadata": {
        "id": "_v9A-S8hf4o7"
      },
      "source": [
        "**Acknowledgement: This exercise is adapted from [Stanford CS231n](http://cs231n.stanford.edu/index.html).**"
      ]
    },
    {
      "cell_type": "markdown",
      "metadata": {
        "tags": [
          "pdf-ignore"
        ],
        "id": "Pjp4kmoKf4o7"
      },
      "source": [
        "## How will I learn TensorFlow?\n",
        "\n",
        "TensorFlow has many excellent tutorials available, including those from [Google themselves](https://www.tensorflow.org/get_started/get_started).\n",
        "\n",
        "Otherwise, this notebook will walk you through much of what you need to do to train models in TensorFlow. See the end of the notebook for some links to helpful tutorials if you want to learn more or need further clarification on topics that aren't fully explained here.\n",
        "\n",
        "**NOTE: This notebook is meant to teach you the latest version of Tensorflow 2.0. Most examples on the web today are still in 1.x, so be careful not to confuse the two when looking up documentation**.\n",
        "\n",
        "## Install Tensorflow 2.0\n",
        "Tensorflow 2.0 is still not in a fully 100% stable release, but it's still usable and more intuitive than TF 1.x. Please make sure you have it installed before moving on in this notebook! Here are some steps to get started:\n",
        "\n",
        "1. Have the latest version of Anaconda installed on your machine.\n",
        "2. Create a new conda environment starting from Python 3.7. In this setup example, we'll call it `tf_20_env`.\n",
        "3. Run the command: `source activate tf_20_env`\n",
        "4. Then pip install TF 2.0 as described here: https://www.tensorflow.org/install/pip \n",
        "\n",
        "A guide on creating Anaconda enviornments: https://uoa-eresearch.github.io/eresearch-cookbook/recipe/2014/11/20/conda/\n",
        "\n",
        "This will give you an new enviornemnt to play in TF 2.0. Generally, if you plan to also use TensorFlow in your other projects, you might also want to keep a seperate Conda environment or virtualenv in Python 3.7 that has Tensorflow 1.9, so you can switch back and forth at will. "
      ]
    },
    {
      "cell_type": "markdown",
      "metadata": {
        "id": "FSkp0KaEf4o7"
      },
      "source": [
        "**Acknowledgement: This exercise is adapted from [Stanford CS231n](http://cs231n.stanford.edu/index.html).**"
      ]
    },
    {
      "cell_type": "markdown",
      "metadata": {
        "id": "2jXAguAvf4o8"
      },
      "source": [
        "## How will I learn TensorFlow?\n",
        "\n",
        "TensorFlow has many excellent tutorials available, including those from [Google themselves](https://www.tensorflow.org/get_started/get_started).\n",
        "\n",
        "Otherwise, this notebook will walk you through much of what you need to do to train models in TensorFlow. See the end of the notebook for some links to helpful tutorials if you want to learn more or need further clarification on topics that aren't fully explained here.\n",
        "\n",
        "# Part I: Preparation"
      ]
    },
    {
      "cell_type": "code",
      "execution_count": null,
      "metadata": {
        "tags": [
          "pdf-ignore"
        ],
        "id": "atuckzznf4o8"
      },
      "outputs": [],
      "source": [
        "import os\n",
        "import tensorflow as tf\n",
        "import numpy as np\n",
        "import math\n",
        "import timeit\n",
        "import matplotlib.pyplot as plt\n",
        "\n",
        "%matplotlib inline"
      ]
    },
    {
      "cell_type": "code",
      "execution_count": null,
      "metadata": {
        "tags": [
          "pdf-ignore"
        ],
        "colab": {
          "base_uri": "https://localhost:8080/"
        },
        "id": "DbWcKqhGf4o9",
        "outputId": "cf3f19e2-9a2b-477b-82bb-83b067c77fc4"
      },
      "outputs": [
        {
          "output_type": "stream",
          "name": "stdout",
          "text": [
            "Downloading data from https://www.cs.toronto.edu/~kriz/cifar-10-python.tar.gz\n",
            "170500096/170498071 [==============================] - 2s 0us/step\n",
            "170508288/170498071 [==============================] - 2s 0us/step\n",
            "Train data shape:  (49000, 32, 32, 3)\n",
            "Train labels shape:  (49000,) int32\n",
            "Validation data shape:  (1000, 32, 32, 3)\n",
            "Validation labels shape:  (1000,)\n",
            "Test data shape:  (10000, 32, 32, 3)\n",
            "Test labels shape:  (10000,)\n"
          ]
        }
      ],
      "source": [
        "def load_cifar10(num_training=49000, num_validation=1000, num_test=10000):\n",
        "    \"\"\"\n",
        "    Fetch the CIFAR-10 dataset from the web and perform preprocessing to prepare\n",
        "    it for the two-layer neural net classifier. These are the same steps as\n",
        "    we used for the SVM, but condensed to a single function.\n",
        "    \"\"\"\n",
        "    # Load the raw CIFAR-10 dataset and use appropriate data types and shapes\n",
        "    cifar10 = tf.keras.datasets.cifar10.load_data()\n",
        "    (X_train, y_train), (X_test, y_test) = cifar10\n",
        "    X_train = np.asarray(X_train, dtype=np.float32)\n",
        "    y_train = np.asarray(y_train, dtype=np.int32).flatten()\n",
        "    X_test = np.asarray(X_test, dtype=np.float32)\n",
        "    y_test = np.asarray(y_test, dtype=np.int32).flatten()\n",
        "\n",
        "    # Subsample the data\n",
        "    mask = range(num_training, num_training + num_validation)\n",
        "    X_val = X_train[mask]\n",
        "    y_val = y_train[mask]\n",
        "    mask = range(num_training)\n",
        "    X_train = X_train[mask]\n",
        "    y_train = y_train[mask]\n",
        "    mask = range(num_test)\n",
        "    X_test = X_test[mask]\n",
        "    y_test = y_test[mask]\n",
        "\n",
        "    # Normalize the data: subtract the mean pixel and divide by std\n",
        "    mean_pixel = X_train.mean(axis=(0, 1, 2), keepdims=True)\n",
        "    std_pixel = X_train.std(axis=(0, 1, 2), keepdims=True)\n",
        "    X_train = (X_train - mean_pixel) / std_pixel\n",
        "    X_val = (X_val - mean_pixel) / std_pixel\n",
        "    X_test = (X_test - mean_pixel) / std_pixel\n",
        "\n",
        "    return X_train, y_train, X_val, y_val, X_test, y_test\n",
        "\n",
        "# If there are errors with SSL downloading involving self-signed certificates,\n",
        "# it may be that your Python version was recently installed on the current machine.\n",
        "# See: https://github.com/tensorflow/tensorflow/issues/10779\n",
        "# To fix, run the command: /Applications/Python\\ 3.7/Install\\ Certificates.command\n",
        "#   ...replacing paths as necessary.\n",
        "\n",
        "# Invoke the above function to get our data.\n",
        "NHW = (0, 1, 2)\n",
        "X_train, y_train, X_val, y_val, X_test, y_test = load_cifar10()\n",
        "print('Train data shape: ', X_train.shape)\n",
        "print('Train labels shape: ', y_train.shape, y_train.dtype)\n",
        "print('Validation data shape: ', X_val.shape)\n",
        "print('Validation labels shape: ', y_val.shape)\n",
        "print('Test data shape: ', X_test.shape)\n",
        "print('Test labels shape: ', y_test.shape)"
      ]
    },
    {
      "cell_type": "code",
      "execution_count": null,
      "metadata": {
        "tags": [
          "pdf-ignore"
        ],
        "id": "PG4Mqon3f4o9"
      },
      "outputs": [],
      "source": [
        "class Dataset(object):\n",
        "    def __init__(self, X, y, batch_size, shuffle=False):\n",
        "        \"\"\"\n",
        "        Construct a Dataset object to iterate over data X and labels y\n",
        "        \n",
        "        Inputs:\n",
        "        - X: Numpy array of data, of any shape\n",
        "        - y: Numpy array of labels, of any shape but with y.shape[0] == X.shape[0]\n",
        "        - batch_size: Integer giving number of elements per minibatch\n",
        "        - shuffle: (optional) Boolean, whether to shuffle the data on each epoch\n",
        "        \"\"\"\n",
        "        assert X.shape[0] == y.shape[0], 'Got different numbers of data and labels'\n",
        "        self.X, self.y = X, y\n",
        "        self.batch_size, self.shuffle = batch_size, shuffle\n",
        "\n",
        "    def __iter__(self):\n",
        "        N, B = self.X.shape[0], self.batch_size\n",
        "        idxs = np.arange(N)\n",
        "        if self.shuffle:\n",
        "            np.random.shuffle(idxs)\n",
        "        return iter((self.X[i:i+B], self.y[i:i+B]) for i in range(0, N, B))\n",
        "\n",
        "\n",
        "train_dset = Dataset(X_train, y_train, batch_size=64, shuffle=True)\n",
        "val_dset = Dataset(X_val, y_val, batch_size=64, shuffle=False)\n",
        "test_dset = Dataset(X_test, y_test, batch_size=64)"
      ]
    },
    {
      "cell_type": "code",
      "execution_count": null,
      "metadata": {
        "colab": {
          "base_uri": "https://localhost:8080/"
        },
        "id": "f6IRmvRdf4o-",
        "outputId": "63d27b75-b488-44e8-d9ad-1026b92bfe9a"
      },
      "outputs": [
        {
          "output_type": "stream",
          "name": "stdout",
          "text": [
            "0 (64, 32, 32, 3) (64,)\n",
            "1 (64, 32, 32, 3) (64,)\n",
            "2 (64, 32, 32, 3) (64,)\n",
            "3 (64, 32, 32, 3) (64,)\n",
            "4 (64, 32, 32, 3) (64,)\n",
            "5 (64, 32, 32, 3) (64,)\n",
            "6 (64, 32, 32, 3) (64,)\n"
          ]
        }
      ],
      "source": [
        "# We can iterate through a dataset like this:\n",
        "for t, (x, y) in enumerate(train_dset):\n",
        "    print(t, x.shape, y.shape)\n",
        "    if t > 5: break"
      ]
    },
    {
      "cell_type": "markdown",
      "metadata": {
        "id": "jM2u2AV7f4o-"
      },
      "source": [
        "You can optionally **use GPU by setting the flag to True below**. It's not neccessary to use a GPU for this assignment; if you are working on Google Cloud then we recommend that you do not use a GPU, as it will be significantly more expensive."
      ]
    },
    {
      "cell_type": "code",
      "execution_count": null,
      "metadata": {
        "tags": [
          "pdf-ignore-input"
        ],
        "colab": {
          "base_uri": "https://localhost:8080/"
        },
        "id": "TYhZKo1zf4o-",
        "outputId": "1147de48-18e1-42f2-febd-e25d09db4c6c"
      },
      "outputs": [
        {
          "output_type": "stream",
          "name": "stdout",
          "text": [
            "Using device:  /device:GPU:0\n"
          ]
        }
      ],
      "source": [
        "# Set up some global variables\n",
        "USE_GPU = True\n",
        "\n",
        "if USE_GPU:\n",
        "    device = '/device:GPU:0'\n",
        "else:\n",
        "    device = '/cpu:0'\n",
        "\n",
        "# Constant to control how often we print when training models\n",
        "print_every = 100\n",
        "\n",
        "print('Using device: ', device)"
      ]
    },
    {
      "cell_type": "markdown",
      "metadata": {
        "tags": [
          "pdf-ignore"
        ],
        "id": "tsYAhFuyf4o_"
      },
      "source": [
        "# Part II: Barebones TensorFlow\n",
        "TensorFlow ships with various high-level APIs which make it very convenient to define and train neural networks; we will cover some of these constructs in Part III and Part IV of this notebook. In this section we will start by building a model with basic TensorFlow constructs to help you better understand what's going on under the hood of the higher-level APIs.\n",
        "\n",
        "**\"Barebones Tensorflow\" is important to understanding the building blocks of TensorFlow, but much of it involves concepts from TensorFlow 1.x.** We will be working with legacy modules such as `tf.Variable`.\n",
        "\n",
        "Therefore, please read and understand the differences between legacy (1.x) TF and the new (2.0) TF.\n",
        "\n",
        "### Historical background on TensorFlow 1.x\n",
        "\n",
        "TensorFlow 1.x is primarily a framework for working with **static computational graphs**. Nodes in the computational graph are Tensors which will hold n-dimensional arrays when the graph is run; edges in the graph represent functions that will operate on Tensors when the graph is run to actually perform useful computation.\n",
        "\n",
        "Before Tensorflow 2.0, we had to configure the graph into two phases. There are plenty of tutorials online that explain this two-step process. The process generally looks like the following for TF 1.x:\n",
        "1. **Build a computational graph that describes the computation that you want to perform**. This stage doesn't actually perform any computation; it just builds up a symbolic representation of your computation. This stage will typically define one or more `placeholder` objects that represent inputs to the computational graph.\n",
        "2. **Run the computational graph many times.** Each time the graph is run (e.g. for one gradient descent step) you will specify which parts of the graph you want to compute, and pass a `feed_dict` dictionary that will give concrete values to any `placeholder`s in the graph.\n",
        "\n",
        "### The new paradigm in Tensorflow 2.0\n",
        "Now, with Tensorflow 2.0, we can simply adopt a functional form that is more Pythonic and similar in spirit to PyTorch and direct Numpy operation. Instead of the 2-step paradigm with computation graphs, making it (among other things) easier to debug TF code. You can read more details at https://www.tensorflow.org/guide/eager.\n",
        "\n",
        "The main difference between the TF 1.x and 2.0 approach is that the 2.0 approach doesn't make use of `tf.Session`, `tf.run`, `placeholder`, `feed_dict`. To get more details of what's different between the two version and how to convert between the two, check out the official migration guide: https://www.tensorflow.org/alpha/guide/migration_guide\n",
        "\n",
        "Later, in the rest of this notebook we'll focus on this new, simpler approach."
      ]
    },
    {
      "cell_type": "markdown",
      "metadata": {
        "tags": [
          "pdf-ignore"
        ],
        "id": "1sg9tMXQf4o_"
      },
      "source": [
        "### TensorFlow warmup: Flatten Function\n",
        "\n",
        "We can see this in action by defining a simple `flatten` function that will reshape image data for use in a fully-connected network.\n",
        "\n",
        "In TensorFlow, data for convolutional feature maps is typically stored in a Tensor of shape N x H x W x C where:\n",
        "\n",
        "- N is the number of datapoints (minibatch size)\n",
        "- H is the height of the feature map\n",
        "- W is the width of the feature map\n",
        "- C is the number of channels in the feature map\n",
        "\n",
        "This is the right way to represent the data when we are doing something like a 2D convolution, that needs spatial understanding of where the intermediate features are relative to each other. When we use fully connected affine layers to process the image, however, we want each datapoint to be represented by a single vector -- it's no longer useful to segregate the different channels, rows, and columns of the data. So, we use a \"flatten\" operation to collapse the `H x W x C` values per representation into a single long vector. \n",
        "\n",
        "Notice the `tf.reshape` call has the target shape as `(N, -1)`, meaning it will reshape/keep the first dimension to be N, and then infer as necessary what the second dimension is in the output, so we can collapse the remaining dimensions from the input properly.\n",
        "\n",
        "**NOTE**: TensorFlow and PyTorch differ on the default Tensor layout; TensorFlow uses N x H x W x C but PyTorch uses N x C x H x W."
      ]
    },
    {
      "cell_type": "code",
      "execution_count": null,
      "metadata": {
        "tags": [
          "pdf-ignore"
        ],
        "id": "Pgzy1BXnf4o_"
      },
      "outputs": [],
      "source": [
        "def flatten(x):\n",
        "    \"\"\"    \n",
        "    Input:\n",
        "    - TensorFlow Tensor of shape (N, D1, ..., DM)\n",
        "    \n",
        "    Output:\n",
        "    - TensorFlow Tensor of shape (N, D1 * ... * DM)\n",
        "    \"\"\"\n",
        "    N = tf.shape(x)[0]\n",
        "    return tf.reshape(x, (N, -1))"
      ]
    },
    {
      "cell_type": "code",
      "execution_count": null,
      "metadata": {
        "tags": [
          "pdf-ignore-input"
        ],
        "colab": {
          "base_uri": "https://localhost:8080/"
        },
        "id": "4ClMyB19f4pA",
        "outputId": "02ac09d1-93d6-48bf-8533-b2840d2f4502"
      },
      "outputs": [
        {
          "output_type": "stream",
          "name": "stdout",
          "text": [
            "x_np:\n",
            " [[[ 0  1  2  3]\n",
            "  [ 4  5  6  7]\n",
            "  [ 8  9 10 11]]\n",
            "\n",
            " [[12 13 14 15]\n",
            "  [16 17 18 19]\n",
            "  [20 21 22 23]]] \n",
            "\n",
            "x_flat_np:\n",
            " tf.Tensor(\n",
            "[[ 0  1  2  3  4  5  6  7  8  9 10 11]\n",
            " [12 13 14 15 16 17 18 19 20 21 22 23]], shape=(2, 12), dtype=int64) \n",
            "\n"
          ]
        }
      ],
      "source": [
        "def test_flatten():\n",
        "    # Construct concrete values of the input data x using numpy\n",
        "    x_np = np.arange(24).reshape((2, 3, 4))\n",
        "    print('x_np:\\n', x_np, '\\n')\n",
        "    # Compute a concrete output value.\n",
        "    x_flat_np = flatten(x_np)\n",
        "    print('x_flat_np:\\n', x_flat_np, '\\n')\n",
        "\n",
        "test_flatten()"
      ]
    },
    {
      "cell_type": "markdown",
      "metadata": {
        "id": "r70u3Y3Mf4pA"
      },
      "source": [
        "### Barebones TensorFlow: Define a Two-Layer Network\n",
        "We will now implement our first neural network with TensorFlow: a fully-connected ReLU network with two hidden layers and no biases on the CIFAR10 dataset. For now we will use only low-level TensorFlow operators to define the network; later we will see how to use the higher-level abstractions provided by `tf.keras` to simplify the process.\n",
        "\n",
        "We will define the forward pass of the network in the function `two_layer_fc`; this will accept TensorFlow Tensors for the inputs and weights of the network, and return a TensorFlow Tensor for the scores. \n",
        "\n",
        "After defining the network architecture in the `two_layer_fc` function, we will test the implementation by checking the shape of the output.\n",
        "\n",
        "**It's important that you read and understand this implementation.**"
      ]
    },
    {
      "cell_type": "code",
      "execution_count": null,
      "metadata": {
        "tags": [
          "pdf-ignore"
        ],
        "id": "xUzNKjNVf4pB"
      },
      "outputs": [],
      "source": [
        "def two_layer_fc(x, params):\n",
        "    \"\"\"\n",
        "    A fully-connected neural network; the architecture is:\n",
        "    fully-connected layer -> ReLU -> fully connected layer.\n",
        "    Note that we only need to define the forward pass here; TensorFlow will take\n",
        "    care of computing the gradients for us.\n",
        "    \n",
        "    The input to the network will be a minibatch of data, of shape\n",
        "    (N, d1, ..., dM) where d1 * ... * dM = D. The hidden layer will have H units,\n",
        "    and the output layer will produce scores for C classes.\n",
        "\n",
        "    Inputs:\n",
        "    - x: A TensorFlow Tensor of shape (N, d1, ..., dM) giving a minibatch of\n",
        "      input data.\n",
        "    - params: A list [w1, w2] of TensorFlow Tensors giving weights for the\n",
        "      network, where w1 has shape (D, H) and w2 has shape (H, C).\n",
        "    \n",
        "    Returns:\n",
        "    - scores: A TensorFlow Tensor of shape (N, C) giving classification scores\n",
        "      for the input data x.\n",
        "    \"\"\"\n",
        "    w1, w2 = params                   # Unpack the parameters\n",
        "    x = flatten(x)                    # Flatten the input; now x has shape (N, D)\n",
        "    h = tf.nn.relu(tf.matmul(x, w1))  # Hidden layer: h has shape (N, H)\n",
        "    scores = tf.matmul(h, w2)         # Compute scores of shape (N, C)\n",
        "    return scores"
      ]
    },
    {
      "cell_type": "code",
      "execution_count": null,
      "metadata": {
        "tags": [
          "pdf-ignore-input"
        ],
        "colab": {
          "base_uri": "https://localhost:8080/"
        },
        "id": "BwBYifayf4pB",
        "outputId": "3f0ac1df-0164-411f-8590-1867ef924257"
      },
      "outputs": [
        {
          "output_type": "stream",
          "name": "stdout",
          "text": [
            "(64, 10)\n"
          ]
        }
      ],
      "source": [
        "def two_layer_fc_test():\n",
        "    hidden_layer_size = 42\n",
        "\n",
        "    # Scoping our TF operations under a tf.device context manager \n",
        "    # lets us tell TensorFlow where we want these Tensors to be\n",
        "    # multiplied and/or operated on, e.g. on a CPU or a GPU.\n",
        "    with tf.device(device):        \n",
        "        x = tf.zeros((64, 32, 32, 3))\n",
        "        w1 = tf.zeros((32 * 32 * 3, hidden_layer_size))\n",
        "        w2 = tf.zeros((hidden_layer_size, 10))\n",
        "\n",
        "        # Call our two_layer_fc function for the forward pass of the network.\n",
        "        scores = two_layer_fc(x, [w1, w2])\n",
        "\n",
        "    print(scores.shape)\n",
        "\n",
        "two_layer_fc_test()"
      ]
    },
    {
      "cell_type": "markdown",
      "metadata": {
        "id": "ryXXeDMxf4pC"
      },
      "source": [
        "### Barebones TensorFlow: Three-Layer ConvNet\n",
        "Here you will complete the implementation of the function `three_layer_convnet` which will perform the forward pass of a three-layer convolutional network. The network should have the following architecture:\n",
        "\n",
        "1. A convolutional layer (with bias) with `channel_1` filters, each with shape `KW1 x KH1`, and zero-padding of two\n",
        "2. ReLU nonlinearity\n",
        "3. A convolutional layer (with bias) with `channel_2` filters, each with shape `KW2 x KH2`, and zero-padding of one\n",
        "4. ReLU nonlinearity\n",
        "5. Fully-connected layer with bias, producing scores for `C` classes.\n",
        "\n",
        "**HINT**: For convolutions: https://www.tensorflow.org/versions/r2.0/api_docs/python/tf/nn/conv2d; be careful with padding!\n",
        "\n",
        "**HINT**: For biases: https://www.tensorflow.org/performance/xla/broadcasting"
      ]
    },
    {
      "cell_type": "code",
      "execution_count": null,
      "metadata": {
        "id": "qUaHHYEff4pC"
      },
      "outputs": [],
      "source": [
        "def three_layer_convnet(x, params):\n",
        "    \"\"\"\n",
        "    A three-layer convolutional network with the architecture described above.\n",
        "    \n",
        "    Inputs:\n",
        "    - x: A TensorFlow Tensor of shape (N, H, W, 3) giving a minibatch of images\n",
        "    - params: A list of TensorFlow Tensors giving the weights and biases for the\n",
        "      network; should contain the following:\n",
        "      - conv_w1: TensorFlow Tensor of shape (KH1, KW1, 3, channel_1) giving\n",
        "        weights for the first convolutional layer.\n",
        "      - conv_b1: TensorFlow Tensor of shape (channel_1,) giving biases for the\n",
        "        first convolutional layer.\n",
        "      - conv_w2: TensorFlow Tensor of shape (KH2, KW2, channel_1, channel_2)\n",
        "        giving weights for the second convolutional layer\n",
        "      - conv_b2: TensorFlow Tensor of shape (channel_2,) giving biases for the\n",
        "        second convolutional layer.\n",
        "      - fc_w: TensorFlow Tensor giving weights for the fully-connected layer.\n",
        "        Can you figure out what the shape should be?\n",
        "      - fc_b: TensorFlow Tensor giving biases for the fully-connected layer.\n",
        "        Can you figure out what the shape should be?\n",
        "    \"\"\"\n",
        "    conv_w1, conv_b1, conv_w2, conv_b2, fc_w, fc_b = params\n",
        "    scores = None\n",
        "    ############################################################################\n",
        "    # TODO: Implement the forward pass for the three-layer ConvNet.            #\n",
        "    ############################################################################\n",
        "    # *****START OF YOUR CODE (DO NOT DELETE/MODIFY THIS LINE)*****\n",
        "\n",
        "    conv_l1 = tf.nn.conv2d(input=x, filters=conv_w1, strides=1, padding='SAME', data_format='NHWC')\n",
        "    conv_l1 += conv_b1\n",
        "    relu_1 = tf.nn.relu(conv_l1)\n",
        "\n",
        "    conv_l2 = tf.nn.conv2d(input=relu_1, filters=conv_w2, strides=1, padding='SAME', data_format='NHWC')\n",
        "    conv_l2 += conv_b2\n",
        "    relu_2 = tf.nn.relu(conv_l2)\n",
        "\n",
        "    scores = (flatten(relu_2) @ fc_w) + fc_b\n",
        "    # *****END OF YOUR CODE (DO NOT DELETE/MODIFY THIS LINE)*****\n",
        "    ############################################################################\n",
        "    #                              END OF YOUR CODE                            #\n",
        "    ############################################################################\n",
        "    return scores"
      ]
    },
    {
      "cell_type": "markdown",
      "metadata": {
        "id": "YXvmABEuf4pC"
      },
      "source": [
        "After defing the forward pass of the three-layer ConvNet above, run the following cell to test your implementation. Like the two-layer network, we run the graph on a batch of zeros just to make sure the function doesn't crash, and produces outputs of the correct shape.\n",
        "\n",
        "When you run this function, `scores_np` should have shape `(64, 10)`."
      ]
    },
    {
      "cell_type": "code",
      "execution_count": null,
      "metadata": {
        "jupyter": {
          "outputs_hidden": true
        },
        "tags": [
          "pdf-ignore-input"
        ],
        "colab": {
          "base_uri": "https://localhost:8080/"
        },
        "id": "5Z0E-HL5f4pD",
        "outputId": "461d5a1e-a0c6-48a0-fa1e-3cd070d429f8"
      },
      "outputs": [
        {
          "output_type": "stream",
          "name": "stdout",
          "text": [
            "scores_np has shape:  (64, 10)\n"
          ]
        }
      ],
      "source": [
        "def three_layer_convnet_test():\n",
        "    \n",
        "    with tf.device(device):\n",
        "        x = tf.zeros((64, 32, 32, 3))\n",
        "        conv_w1 = tf.zeros((5, 5, 3, 6))\n",
        "        conv_b1 = tf.zeros((6,))\n",
        "        conv_w2 = tf.zeros((3, 3, 6, 9))\n",
        "        conv_b2 = tf.zeros((9,))\n",
        "        fc_w = tf.zeros((32 * 32 * 9, 10))\n",
        "        fc_b = tf.zeros((10,))\n",
        "        params = [conv_w1, conv_b1, conv_w2, conv_b2, fc_w, fc_b]\n",
        "        scores = three_layer_convnet(x, params)\n",
        "\n",
        "    # Inputs to convolutional layers are 4-dimensional arrays with shape\n",
        "    # [batch_size, height, width, channels]\n",
        "    print('scores_np has shape: ', scores.shape)\n",
        "\n",
        "three_layer_convnet_test()"
      ]
    },
    {
      "cell_type": "markdown",
      "metadata": {
        "id": "-35OK4Cqf4pD"
      },
      "source": [
        "### Barebones TensorFlow: Training Step\n",
        "\n",
        "We now define the `training_step` function performs a single training step. This will take three basic steps:\n",
        "\n",
        "1. Compute the loss\n",
        "2. Compute the gradient of the loss with respect to all network weights\n",
        "3. Make a weight update step using (stochastic) gradient descent.\n",
        "\n",
        "\n",
        "We need to use a few new TensorFlow functions to do all of this:\n",
        "- For computing the cross-entropy loss we'll use `tf.nn.sparse_softmax_cross_entropy_with_logits`: https://www.tensorflow.org/versions/r2.0/api_docs/python/tf/nn/sparse_softmax_cross_entropy_with_logits\n",
        "\n",
        "- For averaging the loss across a minibatch of data we'll use `tf.reduce_mean`:\n",
        "https://www.tensorflow.org/versions/r2.0/api_docs/python/tf/reduce_mean\n",
        "\n",
        "- For computing gradients of the loss with respect to the weights we'll use `tf.GradientTape` (useful for Eager execution):  https://www.tensorflow.org/versions/r2.0/api_docs/python/tf/GradientTape\n",
        "\n",
        "- We'll mutate the weight values stored in a TensorFlow Tensor using `tf.assign_sub` (\"sub\" is for subtraction): https://www.tensorflow.org/api_docs/python/tf/assign_sub \n"
      ]
    },
    {
      "cell_type": "code",
      "execution_count": null,
      "metadata": {
        "tags": [
          "pdf-ignore"
        ],
        "id": "rkZs3ECHf4pE"
      },
      "outputs": [],
      "source": [
        "def training_step(model_fn, x, y, params, learning_rate):\n",
        "    with tf.GradientTape() as tape:\n",
        "        scores = model_fn(x, params) # Forward pass of the model\n",
        "        loss = tf.nn.sparse_softmax_cross_entropy_with_logits(labels=y, logits=scores)\n",
        "        total_loss = tf.reduce_mean(loss)\n",
        "        grad_params = tape.gradient(total_loss, params)\n",
        "\n",
        "        # Make a vanilla gradient descent step on all of the model parameters\n",
        "        # Manually update the weights using assign_sub()\n",
        "        for w, grad_w in zip(params, grad_params):\n",
        "            w.assign_sub(learning_rate * grad_w)\n",
        "                        \n",
        "        return total_loss"
      ]
    },
    {
      "cell_type": "code",
      "execution_count": null,
      "metadata": {
        "tags": [
          "pdf-ignore"
        ],
        "id": "9-7EBLaSf4pE"
      },
      "outputs": [],
      "source": [
        "def train_part2(model_fn, init_fn, learning_rate, epochs):\n",
        "    \"\"\"\n",
        "    Train a model on CIFAR-10.\n",
        "    \n",
        "    Inputs:\n",
        "    - model_fn: A Python function that performs the forward pass of the model\n",
        "      using TensorFlow; it should have the following signature:\n",
        "      scores = model_fn(x, params) where x is a TensorFlow Tensor giving a\n",
        "      minibatch of image data, params is a list of TensorFlow Tensors holding\n",
        "      the model weights, and scores is a TensorFlow Tensor of shape (N, C)\n",
        "      giving scores for all elements of x.\n",
        "    - init_fn: A Python function that initializes the parameters of the model.\n",
        "      It should have the signature params = init_fn() where params is a list\n",
        "      of TensorFlow Tensors holding the (randomly initialized) weights of the\n",
        "      model.\n",
        "    - learning_rate: Python float giving the learning rate to use for SGD.\n",
        "    \"\"\"\n",
        "    \n",
        "    \n",
        "    params = init_fn()  # Initialize the model parameters            \n",
        "    for e in range(epochs):    \n",
        "        for t, (x_np, y_np) in enumerate(train_dset):\n",
        "            # Run the graph on a batch of training data.\n",
        "            loss = training_step(model_fn, x_np, y_np, params, learning_rate)\n",
        "\n",
        "            # Periodically print the loss and check accuracy on the val set.\n",
        "            if t % print_every == 0:\n",
        "                print('Epoch %d, iteration %d, loss = %.4f' % (e, t, loss))\n",
        "                print('Validation:')\n",
        "                check_accuracy(val_dset, model_fn, params)\n",
        "    return params\n",
        "                "
      ]
    },
    {
      "cell_type": "code",
      "execution_count": null,
      "metadata": {
        "tags": [
          "pdf-ignore"
        ],
        "id": "pP3SGqmyf4pE"
      },
      "outputs": [],
      "source": [
        "def check_accuracy(dset, model_fn, params):\n",
        "    \"\"\"\n",
        "    Check accuracy on a classification model, e.g. for validation.\n",
        "    \n",
        "    Inputs:\n",
        "    - dset: A Dataset object against which to check accuracy\n",
        "    - x: A TensorFlow placeholder Tensor where input images should be fed\n",
        "    - model_fn: the Model we will be calling to make predictions on x\n",
        "    - params: parameters for the model_fn to work with\n",
        "      \n",
        "    Returns: Nothing, but prints the accuracy of the model\n",
        "    \"\"\"\n",
        "    num_correct, num_samples = 0, 0\n",
        "    for x_batch, y_batch in dset:\n",
        "        scores_np = model_fn(x_batch, params).numpy()\n",
        "        y_pred = scores_np.argmax(axis=1)\n",
        "        num_samples += x_batch.shape[0]\n",
        "        num_correct += (y_pred == y_batch).sum()\n",
        "    acc = float(num_correct) / num_samples\n",
        "    print('     Got %d / %d correct (%.2f%%)' % (num_correct, num_samples, 100 * acc))"
      ]
    },
    {
      "cell_type": "markdown",
      "metadata": {
        "id": "2Eoi5ZIjf4pF"
      },
      "source": [
        "### Barebones TensorFlow: Initialization\n",
        "We'll use the following utility method to initialize the weight matrices for our models using Kaiming's normalization method.\n",
        "\n",
        "[1] He et al, *Delving Deep into Rectifiers: Surpassing Human-Level Performance on ImageNet Classification\n",
        "*, ICCV 2015, https://arxiv.org/abs/1502.01852"
      ]
    },
    {
      "cell_type": "code",
      "execution_count": null,
      "metadata": {
        "id": "n1WzlLtZf4pF"
      },
      "outputs": [],
      "source": [
        "def create_matrix_with_kaiming_normal(shape):\n",
        "    if len(shape) == 2:\n",
        "        fan_in, fan_out = shape[0], shape[1]\n",
        "    elif len(shape) == 4:\n",
        "        fan_in, fan_out = np.prod(shape[:3]), shape[3]\n",
        "    return tf.keras.backend.random_normal(shape) * np.sqrt(2.0 / fan_in)"
      ]
    },
    {
      "cell_type": "markdown",
      "metadata": {
        "id": "ORGVMpzjf4pG"
      },
      "source": [
        "### Barebones TensorFlow: Train a Two-Layer Network\n",
        "We are finally ready to use all of the pieces defined above to train a two-layer fully-connected network on CIFAR-10.\n",
        "\n",
        "We just need to define a function to initialize the weights of the model, and call `train_part2`.\n",
        "\n",
        "Defining the weights of the network introduces another important piece of TensorFlow API: `tf.Variable`. A TensorFlow Variable is a Tensor whose value is stored in the graph and persists across runs of the computational graph; however unlike constants defined with `tf.zeros` or `tf.random_normal`, the values of a Variable can be mutated as the graph runs; these mutations will persist across graph runs. Learnable parameters of the network are usually stored in Variables.\n",
        "\n",
        "You don't need to tune any hyperparameters, but you should achieve validation accuracies above 40% after one epoch of training."
      ]
    },
    {
      "cell_type": "code",
      "execution_count": null,
      "metadata": {
        "jupyter": {
          "outputs_hidden": true
        },
        "colab": {
          "base_uri": "https://localhost:8080/"
        },
        "id": "9NTCEgAAf4pG",
        "outputId": "7c5ee0bf-7553-49b6-8c27-dbb776b35b1e"
      },
      "outputs": [
        {
          "output_type": "stream",
          "name": "stdout",
          "text": [
            "Train\n",
            "Epoch 0, iteration 0, loss = 3.0587\n",
            "Validation:\n",
            "     Got 100 / 1000 correct (10.00%)\n",
            "Epoch 0, iteration 100, loss = 1.7898\n",
            "Validation:\n",
            "     Got 379 / 1000 correct (37.90%)\n",
            "Epoch 0, iteration 200, loss = 1.5123\n",
            "Validation:\n",
            "     Got 399 / 1000 correct (39.90%)\n",
            "Epoch 0, iteration 300, loss = 1.8223\n",
            "Validation:\n",
            "     Got 378 / 1000 correct (37.80%)\n",
            "Epoch 0, iteration 400, loss = 1.6965\n",
            "Validation:\n",
            "     Got 415 / 1000 correct (41.50%)\n",
            "Epoch 0, iteration 500, loss = 1.7739\n",
            "Validation:\n",
            "     Got 438 / 1000 correct (43.80%)\n",
            "Epoch 0, iteration 600, loss = 1.7530\n",
            "Validation:\n",
            "     Got 435 / 1000 correct (43.50%)\n",
            "Epoch 0, iteration 700, loss = 2.1055\n",
            "Validation:\n",
            "     Got 439 / 1000 correct (43.90%)\n",
            "Epoch 1, iteration 0, loss = 1.4814\n",
            "Validation:\n",
            "     Got 433 / 1000 correct (43.30%)\n",
            "Epoch 1, iteration 100, loss = 1.4485\n",
            "Validation:\n",
            "     Got 487 / 1000 correct (48.70%)\n",
            "Epoch 1, iteration 200, loss = 1.2256\n",
            "Validation:\n",
            "     Got 470 / 1000 correct (47.00%)\n",
            "Epoch 1, iteration 300, loss = 1.5127\n",
            "Validation:\n",
            "     Got 441 / 1000 correct (44.10%)\n",
            "Epoch 1, iteration 400, loss = 1.4369\n",
            "Validation:\n",
            "     Got 455 / 1000 correct (45.50%)\n",
            "Epoch 1, iteration 500, loss = 1.5546\n",
            "Validation:\n",
            "     Got 480 / 1000 correct (48.00%)\n",
            "Epoch 1, iteration 600, loss = 1.5427\n",
            "Validation:\n",
            "     Got 459 / 1000 correct (45.90%)\n",
            "Epoch 1, iteration 700, loss = 1.8043\n",
            "Validation:\n",
            "     Got 477 / 1000 correct (47.70%)\n",
            "Epoch 2, iteration 0, loss = 1.3246\n",
            "Validation:\n",
            "     Got 466 / 1000 correct (46.60%)\n",
            "Epoch 2, iteration 100, loss = 1.3397\n",
            "Validation:\n",
            "     Got 497 / 1000 correct (49.70%)\n",
            "Epoch 2, iteration 200, loss = 1.0883\n",
            "Validation:\n",
            "     Got 487 / 1000 correct (48.70%)\n",
            "Epoch 2, iteration 300, loss = 1.3649\n",
            "Validation:\n",
            "     Got 466 / 1000 correct (46.60%)\n",
            "Epoch 2, iteration 400, loss = 1.2887\n",
            "Validation:\n",
            "     Got 471 / 1000 correct (47.10%)\n",
            "Epoch 2, iteration 500, loss = 1.4205\n",
            "Validation:\n",
            "     Got 496 / 1000 correct (49.60%)\n",
            "Epoch 2, iteration 600, loss = 1.4306\n",
            "Validation:\n",
            "     Got 481 / 1000 correct (48.10%)\n",
            "Epoch 2, iteration 700, loss = 1.6400\n",
            "Validation:\n",
            "     Got 497 / 1000 correct (49.70%)\n",
            "Epoch 3, iteration 0, loss = 1.2221\n",
            "Validation:\n",
            "     Got 488 / 1000 correct (48.80%)\n",
            "Epoch 3, iteration 100, loss = 1.2546\n",
            "Validation:\n",
            "     Got 510 / 1000 correct (51.00%)\n",
            "Epoch 3, iteration 200, loss = 0.9911\n",
            "Validation:\n",
            "     Got 500 / 1000 correct (50.00%)\n",
            "Epoch 3, iteration 300, loss = 1.2618\n",
            "Validation:\n",
            "     Got 470 / 1000 correct (47.00%)\n",
            "Epoch 3, iteration 400, loss = 1.1719\n",
            "Validation:\n",
            "     Got 479 / 1000 correct (47.90%)\n",
            "Epoch 3, iteration 500, loss = 1.3145\n",
            "Validation:\n",
            "     Got 504 / 1000 correct (50.40%)\n",
            "Epoch 3, iteration 600, loss = 1.3434\n",
            "Validation:\n",
            "     Got 489 / 1000 correct (48.90%)\n",
            "Epoch 3, iteration 700, loss = 1.5200\n",
            "Validation:\n",
            "     Got 502 / 1000 correct (50.20%)\n",
            "Epoch 4, iteration 0, loss = 1.1451\n",
            "Validation:\n",
            "     Got 498 / 1000 correct (49.80%)\n",
            "Epoch 4, iteration 100, loss = 1.1817\n",
            "Validation:\n",
            "     Got 516 / 1000 correct (51.60%)\n",
            "Epoch 4, iteration 200, loss = 0.9072\n",
            "Validation:\n",
            "     Got 518 / 1000 correct (51.80%)\n",
            "Epoch 4, iteration 300, loss = 1.1774\n",
            "Validation:\n",
            "     Got 479 / 1000 correct (47.90%)\n",
            "Epoch 4, iteration 400, loss = 1.0742\n",
            "Validation:\n",
            "     Got 487 / 1000 correct (48.70%)\n",
            "Epoch 4, iteration 500, loss = 1.2249\n",
            "Validation:\n",
            "     Got 506 / 1000 correct (50.60%)\n",
            "Epoch 4, iteration 600, loss = 1.2674\n",
            "Validation:\n",
            "     Got 498 / 1000 correct (49.80%)\n",
            "Epoch 4, iteration 700, loss = 1.4218\n",
            "Validation:\n",
            "     Got 504 / 1000 correct (50.40%)\n",
            "Done!\n"
          ]
        }
      ],
      "source": [
        "def two_layer_fc_init():\n",
        "    \"\"\"\n",
        "    Initialize the weights of a two-layer network, for use with the\n",
        "    two_layer_network function defined above. \n",
        "    You can use the `create_matrix_with_kaiming_normal` helper!\n",
        "    \n",
        "    Inputs: None\n",
        "    \n",
        "    Returns: A list of:\n",
        "    - w1: TensorFlow tf.Variable giving the weights for the first layer\n",
        "    - w2: TensorFlow tf.Variable giving the weights for the second layer\n",
        "    \"\"\"\n",
        "    hidden_layer_size = 4000\n",
        "    w1 = tf.Variable(create_matrix_with_kaiming_normal((3 * 32 * 32, 4000)))\n",
        "    w2 = tf.Variable(create_matrix_with_kaiming_normal((4000, 10)))\n",
        "    return [w1, w2]\n",
        "\n",
        "learning_rate = 1e-2\n",
        "print('Train')\n",
        "trained_params = train_part2(two_layer_fc, two_layer_fc_init, learning_rate,5)\n",
        "print('Done!')"
      ]
    },
    {
      "cell_type": "markdown",
      "metadata": {
        "id": "Yeg_H26Nf4pG"
      },
      "source": [
        "### Test Set - DO THIS ONLY ONCE\n",
        "Now that we've gotten a result that we're happy with, we test our final model on the test set. This would be the score we would achieve on a competition. Think about how this compares to your validation set accuracy."
      ]
    },
    {
      "cell_type": "code",
      "execution_count": null,
      "metadata": {
        "colab": {
          "base_uri": "https://localhost:8080/"
        },
        "id": "142ULo5wf4pG",
        "outputId": "8f2dbd0d-528e-4bda-a742-83d9e1b464a0"
      },
      "outputs": [
        {
          "output_type": "stream",
          "name": "stdout",
          "text": [
            "Test\n",
            "     Got 4990 / 10000 correct (49.90%)\n"
          ]
        }
      ],
      "source": [
        "print('Test')\n",
        "check_accuracy(test_dset, two_layer_fc, trained_params)"
      ]
    },
    {
      "cell_type": "markdown",
      "metadata": {
        "id": "KuzCo8Fnf4pG"
      },
      "source": [
        "### Barebones TensorFlow: Train a three-layer ConvNet\n",
        "We will now use TensorFlow to train a three-layer ConvNet on CIFAR-10.\n",
        "\n",
        "You need to implement the `three_layer_convnet_init` function. Recall that the architecture of the network is:\n",
        "\n",
        "1. Convolutional layer (with bias) with 32 5x5 filters, with zero-padding 2\n",
        "2. ReLU\n",
        "3. Convolutional layer (with bias) with 16 3x3 filters, with zero-padding 1\n",
        "4. ReLU\n",
        "5. Fully-connected layer (with bias) to compute scores for 10 classes\n",
        "\n",
        "You don't need to do any hyperparameter tuning, but you should see validation accuracies above 43% after one epoch of training."
      ]
    },
    {
      "cell_type": "code",
      "execution_count": null,
      "metadata": {
        "colab": {
          "base_uri": "https://localhost:8080/"
        },
        "id": "J127qZ99f4pH",
        "outputId": "3b2cdb4e-35a7-43df-c12b-366d9e6c0869"
      },
      "outputs": [
        {
          "output_type": "stream",
          "name": "stdout",
          "text": [
            "Epoch 0, iteration 0, loss = 3.4189\n",
            "Validation:\n",
            "     Got 119 / 1000 correct (11.90%)\n",
            "Epoch 0, iteration 100, loss = 1.8535\n",
            "Validation:\n",
            "     Got 365 / 1000 correct (36.50%)\n",
            "Epoch 0, iteration 200, loss = 1.6334\n",
            "Validation:\n",
            "     Got 390 / 1000 correct (39.00%)\n",
            "Epoch 0, iteration 300, loss = 1.7024\n",
            "Validation:\n",
            "     Got 393 / 1000 correct (39.30%)\n",
            "Epoch 0, iteration 400, loss = 1.5952\n",
            "Validation:\n",
            "     Got 427 / 1000 correct (42.70%)\n",
            "Epoch 0, iteration 500, loss = 1.7261\n",
            "Validation:\n",
            "     Got 441 / 1000 correct (44.10%)\n",
            "Epoch 0, iteration 600, loss = 1.6031\n",
            "Validation:\n",
            "     Got 465 / 1000 correct (46.50%)\n",
            "Epoch 0, iteration 700, loss = 1.6178\n",
            "Validation:\n",
            "     Got 482 / 1000 correct (48.20%)\n",
            "Epoch 1, iteration 0, loss = 1.4330\n",
            "Validation:\n",
            "     Got 487 / 1000 correct (48.70%)\n",
            "Epoch 1, iteration 100, loss = 1.4071\n",
            "Validation:\n",
            "     Got 494 / 1000 correct (49.40%)\n",
            "Epoch 1, iteration 200, loss = 1.2830\n",
            "Validation:\n",
            "     Got 496 / 1000 correct (49.60%)\n",
            "Epoch 1, iteration 300, loss = 1.5257\n",
            "Validation:\n",
            "     Got 498 / 1000 correct (49.80%)\n",
            "Epoch 1, iteration 400, loss = 1.3145\n",
            "Validation:\n",
            "     Got 515 / 1000 correct (51.50%)\n",
            "Epoch 1, iteration 500, loss = 1.5413\n",
            "Validation:\n",
            "     Got 508 / 1000 correct (50.80%)\n",
            "Epoch 1, iteration 600, loss = 1.4120\n",
            "Validation:\n",
            "     Got 509 / 1000 correct (50.90%)\n",
            "Epoch 1, iteration 700, loss = 1.4977\n",
            "Validation:\n",
            "     Got 512 / 1000 correct (51.20%)\n",
            "Epoch 2, iteration 0, loss = 1.2719\n",
            "Validation:\n",
            "     Got 531 / 1000 correct (53.10%)\n",
            "Epoch 2, iteration 100, loss = 1.2766\n",
            "Validation:\n",
            "     Got 536 / 1000 correct (53.60%)\n",
            "Epoch 2, iteration 200, loss = 1.1399\n",
            "Validation:\n",
            "     Got 528 / 1000 correct (52.80%)\n",
            "Epoch 2, iteration 300, loss = 1.4353\n",
            "Validation:\n",
            "     Got 541 / 1000 correct (54.10%)\n",
            "Epoch 2, iteration 400, loss = 1.1686\n",
            "Validation:\n",
            "     Got 540 / 1000 correct (54.00%)\n",
            "Epoch 2, iteration 500, loss = 1.4374\n",
            "Validation:\n",
            "     Got 539 / 1000 correct (53.90%)\n",
            "Epoch 2, iteration 600, loss = 1.3221\n",
            "Validation:\n",
            "     Got 545 / 1000 correct (54.50%)\n",
            "Epoch 2, iteration 700, loss = 1.4188\n",
            "Validation:\n",
            "     Got 550 / 1000 correct (55.00%)\n",
            "Epoch 3, iteration 0, loss = 1.1703\n",
            "Validation:\n",
            "     Got 548 / 1000 correct (54.80%)\n",
            "Epoch 3, iteration 100, loss = 1.1591\n",
            "Validation:\n",
            "     Got 555 / 1000 correct (55.50%)\n",
            "Epoch 3, iteration 200, loss = 1.0333\n",
            "Validation:\n",
            "     Got 563 / 1000 correct (56.30%)\n",
            "Epoch 3, iteration 300, loss = 1.3534\n",
            "Validation:\n",
            "     Got 547 / 1000 correct (54.70%)\n",
            "Epoch 3, iteration 400, loss = 1.0678\n",
            "Validation:\n",
            "     Got 571 / 1000 correct (57.10%)\n",
            "Epoch 3, iteration 500, loss = 1.3569\n",
            "Validation:\n",
            "     Got 562 / 1000 correct (56.20%)\n",
            "Epoch 3, iteration 600, loss = 1.2487\n",
            "Validation:\n",
            "     Got 571 / 1000 correct (57.10%)\n",
            "Epoch 3, iteration 700, loss = 1.3372\n",
            "Validation:\n",
            "     Got 572 / 1000 correct (57.20%)\n",
            "Epoch 4, iteration 0, loss = 1.0922\n",
            "Validation:\n",
            "     Got 575 / 1000 correct (57.50%)\n",
            "Epoch 4, iteration 100, loss = 1.0550\n",
            "Validation:\n",
            "     Got 591 / 1000 correct (59.10%)\n",
            "Epoch 4, iteration 200, loss = 0.9536\n",
            "Validation:\n",
            "     Got 576 / 1000 correct (57.60%)\n",
            "Epoch 4, iteration 300, loss = 1.2789\n",
            "Validation:\n",
            "     Got 556 / 1000 correct (55.60%)\n",
            "Epoch 4, iteration 400, loss = 0.9963\n",
            "Validation:\n",
            "     Got 589 / 1000 correct (58.90%)\n",
            "Epoch 4, iteration 500, loss = 1.2895\n",
            "Validation:\n",
            "     Got 574 / 1000 correct (57.40%)\n",
            "Epoch 4, iteration 600, loss = 1.1741\n",
            "Validation:\n",
            "     Got 577 / 1000 correct (57.70%)\n",
            "Epoch 4, iteration 700, loss = 1.2544\n",
            "Validation:\n",
            "     Got 595 / 1000 correct (59.50%)\n"
          ]
        },
        {
          "output_type": "execute_result",
          "data": {
            "text/plain": [
              "[<tf.Variable 'Variable:0' shape=(5, 5, 3, 32) dtype=float32, numpy=\n",
              " array([[[[-7.30513420e-04, -8.95354450e-02,  3.45453084e-01, ...,\n",
              "           -1.60553396e-01, -3.21987778e-01, -2.59407341e-01],\n",
              "          [ 4.11882192e-01,  8.11211839e-02, -3.84328440e-02, ...,\n",
              "           -8.51499513e-02, -1.05963789e-01, -6.79349899e-02],\n",
              "          [-1.00966059e-01,  2.37105880e-02, -1.78850845e-01, ...,\n",
              "           -1.78173918e-03, -5.41961268e-02, -1.45965377e-02]],\n",
              " \n",
              "         [[ 4.75981906e-02,  4.68793586e-02,  2.44861066e-01, ...,\n",
              "            3.75540286e-01,  2.94712204e-02,  1.44733876e-01],\n",
              "          [-1.72727942e-01, -1.03517100e-01, -1.90017134e-01, ...,\n",
              "           -4.40343469e-03, -5.14093712e-02, -7.58587271e-02],\n",
              "          [ 2.61895061e-02, -2.74258375e-01,  2.40599915e-01, ...,\n",
              "           -1.78961664e-01,  2.22300604e-01,  3.66703480e-01]],\n",
              " \n",
              "         [[ 1.92213580e-01, -2.20019385e-01,  7.51617029e-02, ...,\n",
              "           -9.08362046e-02, -6.22506849e-02, -1.28311470e-01],\n",
              "          [ 1.20961741e-01, -1.80957586e-01, -1.14185281e-01, ...,\n",
              "           -4.53767449e-01,  7.00392053e-02,  5.55761568e-02],\n",
              "          [-2.19540313e-01, -3.12285095e-01, -1.90368518e-01, ...,\n",
              "           -1.58075318e-01, -8.96124840e-02, -1.19667634e-01]],\n",
              " \n",
              "         [[-2.56883323e-01, -2.70131137e-02,  1.57920673e-01, ...,\n",
              "            1.77571565e-01,  9.47879851e-02, -7.26439953e-02],\n",
              "          [ 1.55969471e-01, -3.36679578e-01, -6.60164282e-02, ...,\n",
              "            2.43102815e-02, -1.53641522e-01, -1.10994108e-01],\n",
              "          [-5.77437691e-03, -1.92807958e-01, -2.18520835e-01, ...,\n",
              "           -3.50708254e-02, -1.78002268e-01,  1.75687432e-01]],\n",
              " \n",
              "         [[-3.09088230e-01, -5.29281469e-03,  7.97499269e-02, ...,\n",
              "            4.39973399e-02,  1.15351386e-01,  2.31265038e-01],\n",
              "          [-4.36196662e-02,  9.00692120e-02,  1.09408498e-01, ...,\n",
              "           -2.78051347e-01, -1.59723982e-01,  1.34843960e-01],\n",
              "          [ 5.38315699e-02, -1.38887092e-01, -1.72834516e-01, ...,\n",
              "           -1.24663949e-01, -4.01846580e-02,  7.67067447e-02]]],\n",
              " \n",
              " \n",
              "        [[[ 9.60446969e-02,  1.75726324e-01, -2.36976117e-01, ...,\n",
              "            1.30022973e-01, -1.36510044e-01, -1.52397677e-01],\n",
              "          [-8.21835082e-03,  4.28797379e-02, -9.00332034e-02, ...,\n",
              "            1.05719775e-01, -1.04075879e-01,  7.36046433e-02],\n",
              "          [ 8.57616514e-02,  4.00555618e-02, -1.80147946e-01, ...,\n",
              "           -5.30982949e-02, -2.59078573e-02,  2.49687612e-01]],\n",
              " \n",
              "         [[ 2.25261480e-01, -5.63800223e-02,  3.27074140e-01, ...,\n",
              "           -1.37878299e-01, -1.26921549e-01,  3.30219805e-01],\n",
              "          [ 2.06702054e-01, -1.66422293e-01,  1.54591858e-01, ...,\n",
              "           -2.20067993e-01, -4.40400727e-02, -1.00898862e-01],\n",
              "          [ 2.38133088e-01, -1.13479123e-01,  7.11209625e-02, ...,\n",
              "           -2.51086235e-01, -9.99978259e-02,  5.94347075e-04]],\n",
              " \n",
              "         [[-2.35511243e-01, -1.81210905e-01,  3.52863371e-01, ...,\n",
              "            9.49818119e-02, -9.88538861e-02, -1.04743347e-01],\n",
              "          [ 2.47491047e-01, -2.00806782e-01,  1.27114952e-01, ...,\n",
              "           -5.05219549e-02, -1.10118464e-01, -3.32692415e-02],\n",
              "          [-1.90347642e-01, -1.63624451e-01,  1.85606271e-01, ...,\n",
              "           -2.55194813e-01,  2.14366212e-01,  5.08317314e-02]],\n",
              " \n",
              "         [[ 1.50774149e-02, -1.66397125e-01,  1.23035505e-01, ...,\n",
              "           -1.98445871e-01,  1.46452099e-01, -9.87487584e-02],\n",
              "          [ 1.42581701e-01,  2.27972418e-01, -1.02373809e-01, ...,\n",
              "           -2.38618508e-01, -3.04274727e-02,  1.43364087e-01],\n",
              "          [-2.71013193e-02, -3.52833383e-02,  7.23565146e-02, ...,\n",
              "            2.29501188e-01,  3.11383933e-01,  1.10835567e-01]],\n",
              " \n",
              "         [[-6.27629384e-02,  2.39807487e-01, -1.92859575e-01, ...,\n",
              "           -1.08327784e-01,  1.52276427e-01,  7.58924931e-02],\n",
              "          [ 1.99909702e-01, -5.43549582e-02,  3.16712796e-03, ...,\n",
              "           -3.05295736e-02,  7.14420304e-02, -3.08946632e-02],\n",
              "          [-1.45296067e-01,  3.66693437e-02,  9.19080675e-02, ...,\n",
              "           -3.66911232e-01,  1.99497759e-01, -1.94348797e-01]]],\n",
              " \n",
              " \n",
              "        [[[-8.47436190e-02, -2.12281898e-01, -2.01900274e-01, ...,\n",
              "            2.92543638e-02,  1.64096355e-01, -4.00138088e-02],\n",
              "          [-2.71748781e-01,  2.13719264e-01,  4.06061709e-02, ...,\n",
              "           -8.94356743e-02, -4.06868756e-01, -9.59772989e-02],\n",
              "          [ 7.25255832e-02, -9.32211876e-02, -2.28253648e-01, ...,\n",
              "            2.56212037e-02, -1.42037362e-01,  1.90084100e-01]],\n",
              " \n",
              "         [[-2.98245866e-02,  1.98042095e-01,  3.13281231e-02, ...,\n",
              "            4.77557443e-02,  5.50047047e-02, -1.75231174e-02],\n",
              "          [-1.38513461e-01,  2.51012057e-01, -1.36301070e-02, ...,\n",
              "            2.80899890e-02, -3.87172341e-01, -7.15483055e-02],\n",
              "          [-2.37749621e-01, -8.51549283e-02,  4.49798964e-02, ...,\n",
              "           -1.56762585e-01, -7.42390156e-02,  8.46393332e-02]],\n",
              " \n",
              "         [[-2.58509278e-01, -9.01283473e-02,  1.83262214e-01, ...,\n",
              "           -2.40244001e-01,  3.03251952e-01, -1.33128926e-01],\n",
              "          [-3.69378887e-02, -2.04483539e-01, -2.18099624e-01, ...,\n",
              "           -1.53684439e-02, -1.17457710e-01, -3.43149930e-01],\n",
              "          [-6.02870919e-02, -2.11062998e-01, -8.17419142e-02, ...,\n",
              "            2.95075715e-01, -2.78160870e-01, -1.43335298e-01]],\n",
              " \n",
              "         [[-1.40570700e-01,  1.35524720e-01,  1.37879044e-01, ...,\n",
              "            4.12743062e-01,  1.81679547e-01, -4.99341078e-02],\n",
              "          [-4.16073054e-01,  2.21707746e-01, -8.72646347e-02, ...,\n",
              "            7.22639412e-02,  1.02528920e-02, -8.71508494e-02],\n",
              "          [ 1.35479514e-02,  3.43043171e-02,  2.17093732e-02, ...,\n",
              "            2.33303308e-01,  8.81786421e-02, -3.38994950e-01]],\n",
              " \n",
              "         [[ 4.14320678e-01,  4.70753014e-02, -8.70797634e-02, ...,\n",
              "            1.10166118e-01, -7.03277141e-02,  1.93497948e-02],\n",
              "          [-3.62597988e-03, -1.35737183e-02,  4.40387242e-02, ...,\n",
              "           -2.27616988e-02, -1.66044980e-01,  1.38709202e-01],\n",
              "          [-1.79226071e-01, -3.10987055e-01, -2.30489731e-01, ...,\n",
              "           -2.74551716e-02,  3.55695516e-01, -8.84238780e-02]]],\n",
              " \n",
              " \n",
              "        [[[ 2.92637557e-01,  1.11136720e-01, -1.73627123e-01, ...,\n",
              "           -7.59075284e-02, -2.13911116e-01, -9.06124935e-02],\n",
              "          [ 2.53636837e-01,  3.08935083e-02,  5.74205406e-02, ...,\n",
              "            7.90975168e-02, -5.68337366e-02,  2.38036007e-01],\n",
              "          [ 1.25837082e-03,  1.47690013e-01, -9.72679630e-02, ...,\n",
              "           -1.04361484e-02, -2.45479345e-02, -1.47123113e-01]],\n",
              " \n",
              "         [[-2.58654565e-01,  3.18611860e-02,  2.76930660e-01, ...,\n",
              "           -1.80394948e-02,  1.71229124e-01, -2.65229613e-01],\n",
              "          [-1.75435066e-01, -2.87006527e-01, -1.44984282e-04, ...,\n",
              "            2.43524492e-01,  1.65802732e-01,  2.22214200e-02],\n",
              "          [ 1.25075832e-01,  1.31595090e-01,  2.64160931e-01, ...,\n",
              "            1.90979883e-01, -7.93517381e-03,  8.32797587e-02]],\n",
              " \n",
              "         [[ 7.26914853e-02,  1.96674034e-01, -1.56220138e-01, ...,\n",
              "           -3.36369783e-01, -2.61677504e-02, -4.49772365e-03],\n",
              "          [ 8.11844692e-02, -1.72738969e-01,  2.64287256e-02, ...,\n",
              "           -3.58128995e-01, -1.47813037e-02, -3.13234568e-01],\n",
              "          [ 1.33717492e-01,  5.39439246e-02,  6.59105256e-02, ...,\n",
              "            1.64549321e-01, -5.80490269e-02,  1.13754161e-01]],\n",
              " \n",
              "         [[-2.05189720e-01,  8.64141136e-02,  9.74737406e-02, ...,\n",
              "            3.25543433e-02,  2.54794687e-01, -2.27786228e-01],\n",
              "          [-6.91001415e-02,  1.73223078e-01, -1.95502505e-01, ...,\n",
              "            1.06233716e-01,  1.08838044e-01,  7.96907917e-02],\n",
              "          [ 1.60418242e-01, -7.48278107e-03, -1.35423884e-01, ...,\n",
              "            3.55620421e-02, -5.85079677e-02, -2.47734133e-02]],\n",
              " \n",
              "         [[ 5.41471317e-02,  2.29570910e-01, -1.24866348e-02, ...,\n",
              "            6.44945428e-02,  1.72648802e-01, -8.58603418e-02],\n",
              "          [ 8.79785046e-02,  1.04059853e-01,  1.88528329e-01, ...,\n",
              "            1.81184430e-02,  8.44091773e-02, -1.58846691e-01],\n",
              "          [ 1.64371386e-01, -4.89250794e-02,  1.42225400e-01, ...,\n",
              "            1.02799952e-01,  1.19101286e-01, -1.93702474e-01]]],\n",
              " \n",
              " \n",
              "        [[[ 1.21607982e-01,  1.44058704e-01,  2.28517443e-01, ...,\n",
              "           -7.37447217e-02, -1.08264521e-01, -2.08040938e-01],\n",
              "          [-1.37451515e-01, -2.13544235e-01, -1.62027985e-01, ...,\n",
              "            2.63097048e-01, -3.02944392e-01,  2.65635282e-01],\n",
              "          [ 6.56668842e-02,  1.84970982e-02,  1.64642617e-01, ...,\n",
              "            5.68933897e-02, -8.63237977e-02, -4.89637628e-02]],\n",
              " \n",
              "         [[-2.88903769e-02, -4.96029966e-02,  4.03755046e-02, ...,\n",
              "           -3.13823968e-02,  1.30422160e-01, -9.75670740e-02],\n",
              "          [-4.95196208e-02, -4.23092321e-02,  2.05306262e-01, ...,\n",
              "            5.96750565e-02,  1.44636452e-01,  1.48844525e-01],\n",
              "          [-3.74313146e-01,  2.24484071e-01, -1.74161032e-01, ...,\n",
              "            1.14845827e-01,  1.18584670e-01,  3.10371667e-02]],\n",
              " \n",
              "         [[ 2.08580151e-01,  6.19445667e-02, -2.27674797e-01, ...,\n",
              "           -8.62284452e-02,  7.28449598e-02,  1.62741646e-01],\n",
              "          [-1.03527606e-01, -7.33649060e-02, -1.16528094e-01, ...,\n",
              "            4.85028811e-02,  2.71041766e-02,  1.23176575e-01],\n",
              "          [-1.71095282e-01, -2.00082913e-01, -2.17602365e-02, ...,\n",
              "            1.63100958e-01, -2.07137600e-01, -4.57553118e-02]],\n",
              " \n",
              "         [[ 1.10032380e-01,  1.08166680e-01,  4.71700355e-02, ...,\n",
              "           -5.67834899e-02, -3.89138237e-02,  1.67086318e-01],\n",
              "          [-1.45644873e-01,  1.81135088e-01, -7.00335726e-02, ...,\n",
              "           -1.73095446e-02,  2.31738925e-01, -1.42796874e-01],\n",
              "          [ 1.78415384e-02, -1.04858555e-01, -1.43666998e-01, ...,\n",
              "            2.18027651e-01,  4.59059216e-02, -2.58112196e-02]],\n",
              " \n",
              "         [[ 1.99003801e-01, -1.57329738e-01, -1.17594413e-01, ...,\n",
              "           -7.89504033e-03, -2.72670835e-01, -2.12593913e-01],\n",
              "          [-4.25807014e-02,  1.55736819e-01, -1.07949063e-01, ...,\n",
              "            2.77779877e-01, -1.05633646e-01,  1.65189598e-02],\n",
              "          [ 1.38120204e-01,  3.78111899e-02, -5.36197610e-02, ...,\n",
              "            1.27752915e-01, -3.87001596e-02, -2.95460150e-02]]]],\n",
              "       dtype=float32)>,\n",
              " <tf.Variable 'Variable:0' shape=(32,) dtype=float32, numpy=\n",
              " array([-0.02768716,  0.00223203,  0.01527918, -0.06612939,  0.10072886,\n",
              "         0.13191624,  0.02359801, -0.01461088,  0.01141547,  0.10225188,\n",
              "        -0.09295668,  0.01785557, -0.00898188, -0.06068878,  0.06157703,\n",
              "        -0.01063985,  0.03661035,  0.05755736, -0.00181908,  0.01993922,\n",
              "        -0.01384589, -0.03255774,  0.02717302,  0.03633253,  0.00224985,\n",
              "         0.0004818 , -0.01037123, -0.05592122, -0.01850329, -0.07245331,\n",
              "        -0.0272992 ,  0.00288302], dtype=float32)>,\n",
              " <tf.Variable 'Variable:0' shape=(3, 3, 32, 16) dtype=float32, numpy=\n",
              " array([[[[ 1.20059803e-01,  3.54150496e-02, -1.16539448e-01, ...,\n",
              "            7.32756630e-02,  1.49674535e-01,  7.59213194e-02],\n",
              "          [-1.54817319e-02, -1.10467663e-02,  4.77048978e-02, ...,\n",
              "            8.84246230e-02, -2.91190922e-01, -6.03775457e-02],\n",
              "          [-4.22001556e-02,  1.04407974e-01,  8.30594972e-02, ...,\n",
              "            6.23203488e-03,  7.37971021e-03, -5.81124332e-04],\n",
              "          ...,\n",
              "          [-2.98400186e-02,  3.29618454e-02, -4.68634628e-02, ...,\n",
              "            4.41521779e-02, -8.50757509e-02,  5.10611497e-02],\n",
              "          [ 1.74496010e-01, -2.00748593e-01, -8.62521827e-02, ...,\n",
              "           -1.17483819e-02, -1.35560244e-01, -1.31330401e-01],\n",
              "          [-1.42517716e-01,  1.21640876e-01,  2.33854223e-02, ...,\n",
              "           -4.55923267e-02, -4.54068147e-02, -1.06986091e-01]],\n",
              " \n",
              "         [[-5.09446822e-02, -4.01116982e-02, -7.16414899e-02, ...,\n",
              "           -7.77624473e-02,  6.51369244e-02, -1.23899810e-01],\n",
              "          [-1.67219281e-01, -4.92069200e-02, -4.40299213e-02, ...,\n",
              "           -3.95301618e-02,  9.22825709e-02,  5.81754595e-02],\n",
              "          [ 7.87347406e-02,  2.68691927e-02,  2.18210015e-02, ...,\n",
              "           -2.42666639e-02, -3.01675219e-02, -1.07080467e-01],\n",
              "          ...,\n",
              "          [ 1.67581178e-02,  4.00529876e-02, -3.35627571e-02, ...,\n",
              "           -1.60332367e-01, -1.60853133e-01, -1.32263616e-01],\n",
              "          [-4.92318720e-02,  5.22663333e-02, -1.88266471e-01, ...,\n",
              "            1.14093171e-02,  1.18283965e-02, -7.53860921e-02],\n",
              "          [ 5.98984249e-02, -2.49389783e-02, -8.74560848e-02, ...,\n",
              "            1.35376565e-02,  1.34119019e-02,  5.45621244e-03]],\n",
              " \n",
              "         [[ 2.18049549e-02, -6.85680881e-02, -8.93224999e-02, ...,\n",
              "           -1.30685583e-01,  1.49014175e-01, -1.67732030e-01],\n",
              "          [-1.68711524e-02, -3.67785357e-02,  1.30541742e-01, ...,\n",
              "           -4.12533656e-02,  1.00530528e-01, -6.40092492e-02],\n",
              "          [-4.23601046e-02,  8.68271366e-02,  5.49914613e-02, ...,\n",
              "            1.26764253e-01,  9.24714953e-02, -6.35858476e-02],\n",
              "          ...,\n",
              "          [ 2.82024592e-02,  1.13337770e-01, -8.22410807e-02, ...,\n",
              "           -1.78071801e-02,  5.54744788e-02,  6.86601270e-03],\n",
              "          [ 1.02904774e-01, -3.28449123e-02, -6.95606768e-02, ...,\n",
              "            6.70144632e-02,  2.14794263e-01,  1.02457702e-01],\n",
              "          [-7.48260319e-02,  1.66375786e-01, -4.80165184e-02, ...,\n",
              "           -7.36360550e-02,  6.50548860e-02, -2.25106344e-01]]],\n",
              " \n",
              " \n",
              "        [[[ 4.62797396e-02,  1.31813325e-02, -1.07579440e-01, ...,\n",
              "           -1.30745590e-01,  7.26507455e-02,  3.84357311e-02],\n",
              "          [-1.32609168e-02,  6.27964512e-02, -1.35661900e-01, ...,\n",
              "            6.69100508e-03, -4.35005277e-02,  7.84188043e-03],\n",
              "          [-3.73819955e-02,  5.30885942e-02,  3.11627761e-02, ...,\n",
              "           -3.97149064e-02,  1.04513634e-02,  3.84740718e-02],\n",
              "          ...,\n",
              "          [-1.17947005e-01, -2.53796913e-02, -1.50833875e-01, ...,\n",
              "            3.40880528e-02,  8.57422948e-02,  9.22607929e-02],\n",
              "          [-2.27083907e-01, -6.23057038e-03,  4.71546547e-03, ...,\n",
              "            9.67583135e-02, -5.04814051e-02, -5.21458238e-02],\n",
              "          [ 5.73384687e-02,  4.25049327e-02, -5.22212982e-02, ...,\n",
              "           -8.19359496e-02, -1.99814513e-02, -1.96005851e-02]],\n",
              " \n",
              "         [[ 7.02460334e-02, -3.30689773e-02,  1.72584832e-01, ...,\n",
              "            6.14651255e-02,  2.12885857e-01,  1.25933230e-01],\n",
              "          [-1.10953785e-01, -7.25947767e-02, -5.86223044e-02, ...,\n",
              "           -6.27389252e-02, -1.06549216e-02,  1.91470869e-02],\n",
              "          [-9.24827829e-02, -1.68501064e-02,  4.79414448e-04, ...,\n",
              "            1.94409862e-02, -9.31788236e-02,  9.38434270e-04],\n",
              "          ...,\n",
              "          [ 7.87438676e-02,  1.19018294e-01, -1.27002969e-01, ...,\n",
              "           -5.77672049e-02, -1.73113927e-01, -8.73927400e-02],\n",
              "          [ 7.88122118e-02, -1.29690796e-01, -8.38287324e-02, ...,\n",
              "           -3.52056287e-02,  2.21782122e-02,  9.71581116e-02],\n",
              "          [ 1.10432670e-01,  4.55881245e-02,  3.43543328e-02, ...,\n",
              "           -9.20929462e-02, -5.00425100e-02,  6.18262403e-02]],\n",
              " \n",
              "         [[-6.58216029e-02,  1.12133577e-01, -6.28019273e-02, ...,\n",
              "            3.11390050e-02, -6.38870895e-02,  3.32061574e-02],\n",
              "          [-4.39621620e-02, -2.48275287e-02, -1.99584216e-02, ...,\n",
              "            1.48920044e-01,  8.26861151e-03,  4.64214245e-03],\n",
              "          [ 1.04204059e-01,  7.16759712e-02, -4.18848917e-02, ...,\n",
              "            8.35831985e-02, -6.31407648e-03,  7.46269226e-02],\n",
              "          ...,\n",
              "          [-1.12159662e-01,  1.67022515e-02,  4.01990265e-02, ...,\n",
              "           -8.25469047e-02,  2.44262461e-02,  1.23848274e-01],\n",
              "          [-7.31497929e-02,  9.39674489e-03,  2.63151407e-01, ...,\n",
              "           -9.86544564e-02, -2.74871811e-02, -1.87037513e-02],\n",
              "          [ 8.34036544e-02,  1.70183167e-01, -8.46275315e-02, ...,\n",
              "           -7.94818550e-02, -7.09031671e-02,  1.15632480e-02]]],\n",
              " \n",
              " \n",
              "        [[[ 1.93232313e-01, -8.66758898e-02, -1.00858770e-01, ...,\n",
              "           -6.79915622e-02,  3.22237611e-01, -5.43866074e-03],\n",
              "          [-6.54150173e-02,  3.53442854e-03,  4.96104993e-02, ...,\n",
              "           -2.86888480e-02, -7.78877065e-02,  4.14807461e-02],\n",
              "          [ 8.63576829e-02,  2.90804505e-02,  5.94693869e-02, ...,\n",
              "            7.44697228e-02, -1.71435550e-01, -4.86574247e-02],\n",
              "          ...,\n",
              "          [-1.57211944e-02,  4.25882600e-02, -1.30633757e-01, ...,\n",
              "           -2.69780345e-02, -1.30904183e-01,  1.07615486e-01],\n",
              "          [-3.58388871e-02, -1.28015190e-01, -7.51438886e-02, ...,\n",
              "            9.85277351e-03,  9.38114226e-02,  6.53349310e-02],\n",
              "          [-2.81950459e-02,  9.40734241e-03, -1.27954157e-02, ...,\n",
              "            7.89094642e-02,  6.36389777e-02,  2.26675496e-01]],\n",
              " \n",
              "         [[-2.86152940e-02, -2.61857081e-02,  1.57317426e-02, ...,\n",
              "            2.92053837e-02,  2.22676888e-01, -4.61234674e-02],\n",
              "          [-8.39840472e-02,  5.74816437e-03,  3.60342041e-02, ...,\n",
              "           -1.51291862e-01, -1.16554849e-01,  4.18216437e-02],\n",
              "          [-5.57556972e-02, -9.60214238e-05, -1.30307795e-02, ...,\n",
              "            6.16984963e-02, -1.74279884e-01, -5.98868355e-02],\n",
              "          ...,\n",
              "          [-3.85917127e-02,  5.69658652e-02,  2.72334479e-02, ...,\n",
              "           -8.21942464e-03, -2.37414744e-02, -2.97677666e-02],\n",
              "          [-7.61016309e-02, -1.09260187e-01, -6.87472289e-03, ...,\n",
              "            1.79968309e-02, -7.68606514e-02,  8.63021016e-02],\n",
              "          [ 1.28589824e-01, -4.60620113e-02, -6.39083534e-02, ...,\n",
              "           -1.34251565e-01,  3.35333534e-02,  5.22671379e-02]],\n",
              " \n",
              "         [[ 1.61902770e-01, -9.99846756e-02,  1.36351751e-04, ...,\n",
              "           -6.12963624e-02, -7.12286904e-02, -3.00347013e-03],\n",
              "          [-2.65037809e-02,  1.47279706e-02,  1.16906926e-01, ...,\n",
              "           -5.04875518e-02,  3.13043967e-02, -1.33030400e-01],\n",
              "          [ 8.49244595e-02, -1.42229721e-01, -4.65722792e-02, ...,\n",
              "            5.29998019e-02,  4.17467058e-02, -2.44385451e-02],\n",
              "          ...,\n",
              "          [ 1.16433710e-01,  6.91298246e-02,  8.97793993e-02, ...,\n",
              "           -5.42396232e-02,  8.01123157e-02,  1.70534197e-02],\n",
              "          [ 1.76667109e-01, -1.53340712e-01,  3.04887928e-02, ...,\n",
              "           -3.34824435e-02, -1.02740310e-01, -5.86066768e-02],\n",
              "          [ 4.90034148e-02, -6.08791523e-02,  8.78448486e-02, ...,\n",
              "            2.52332147e-02, -7.67879933e-02,  5.93101345e-02]]]],\n",
              "       dtype=float32)>,\n",
              " <tf.Variable 'Variable:0' shape=(16,) dtype=float32, numpy=\n",
              " array([-0.08106682,  0.04419798,  0.15957175,  0.01627744,  0.00672597,\n",
              "         0.02422851,  0.0102271 , -0.01056297, -0.00089165, -0.19989067,\n",
              "        -0.00421291,  0.01291813,  0.0051431 ,  0.26594704,  0.12179016,\n",
              "        -0.02360822], dtype=float32)>,\n",
              " <tf.Variable 'Variable:0' shape=(16384, 10) dtype=float32, numpy=\n",
              " array([[-0.0039793 ,  0.0149017 ,  0.00580458, ...,  0.00256496,\n",
              "          0.01397877, -0.0067488 ],\n",
              "        [-0.01815603,  0.00296218,  0.00309442, ..., -0.00925748,\n",
              "          0.0165246 ,  0.00727398],\n",
              "        [ 0.00275394, -0.00412423, -0.0014877 , ...,  0.01535041,\n",
              "          0.01270547, -0.01130752],\n",
              "        ...,\n",
              "        [ 0.00213022, -0.00551291,  0.00072743, ...,  0.0020359 ,\n",
              "          0.00602596,  0.00078809],\n",
              "        [ 0.0008564 ,  0.01645213, -0.00925645, ..., -0.00134157,\n",
              "          0.00491678, -0.01932548],\n",
              "        [-0.01443114, -0.01230106, -0.00764458, ...,  0.01654562,\n",
              "         -0.00104443, -0.00508382]], dtype=float32)>,\n",
              " <tf.Variable 'Variable:0' shape=(10,) dtype=float32, numpy=\n",
              " array([-0.01043312, -0.04917646,  0.04214871,  0.00635859,  0.05130031,\n",
              "        -0.01271202,  0.01986577, -0.02561304,  0.02710512, -0.04884399],\n",
              "       dtype=float32)>]"
            ]
          },
          "metadata": {},
          "execution_count": 18
        }
      ],
      "source": [
        "def three_layer_convnet_init():\n",
        "    \"\"\"\n",
        "    Initialize the weights of a Three-Layer ConvNet, for use with the\n",
        "    three_layer_convnet function defined above.\n",
        "    You can use the `create_matrix_with_kaiming_normal` helper!\n",
        "    \n",
        "    Inputs: None\n",
        "    \n",
        "    Returns a list containing:\n",
        "    - conv_w1: TensorFlow tf.Variable giving weights for the first conv layer\n",
        "    - conv_b1: TensorFlow tf.Variable giving biases for the first conv layer\n",
        "    - conv_w2: TensorFlow tf.Variable giving weights for the second conv layer\n",
        "    - conv_b2: TensorFlow tf.Variable giving biases for the second conv layer\n",
        "    - fc_w: TensorFlow tf.Variable giving weights for the fully-connected layer\n",
        "    - fc_b: TensorFlow tf.Variable giving biases for the fully-connected layer\n",
        "    \"\"\"\n",
        "    params = None\n",
        "    ############################################################################\n",
        "    # TODO: Initialize the parameters of the three-layer network.              #\n",
        "    ############################################################################\n",
        "    # *****START OF YOUR CODE (DO NOT DELETE/MODIFY THIS LINE)*****\n",
        "    conv_w1 = tf.Variable(create_matrix_with_kaiming_normal((5, 5, 3, 32)))\n",
        "    conv_b1 = tf.Variable(tf.zeros((32,)))\n",
        "\n",
        "    conv_w2 = tf.Variable(create_matrix_with_kaiming_normal((3, 3, 32, 16)))\n",
        "    conv_b2 = tf.Variable(tf.zeros((16,)))\n",
        "\n",
        "    fc_w = tf.Variable(create_matrix_with_kaiming_normal((32 * 32 * 16, 10)))\n",
        "    fc_b = tf.Variable(tf.zeros((10,)))\n",
        "    \n",
        "    params = [conv_w1, conv_b1, conv_w2, conv_b2, fc_w, fc_b]\n",
        "    # *****END OF YOUR CODE (DO NOT DELETE/MODIFY THIS LINE)*****\n",
        "    ############################################################################\n",
        "    #                             END OF YOUR CODE                             #\n",
        "    ############################################################################\n",
        "    return params\n",
        "\n",
        "learning_rate = 3e-3\n",
        "train_part2(three_layer_convnet, three_layer_convnet_init, learning_rate,5)"
      ]
    },
    {
      "cell_type": "markdown",
      "metadata": {
        "id": "jSZOlYKsf4pH"
      },
      "source": [
        "# Part V: Train a _GREAT_ model on CIFAR-10!\n",
        "\n",
        "In this section you can experiment with whatever ConvNet architecture you'd like on CIFAR-10.\n",
        "\n",
        "You should experiment with architectures, hyperparameters, loss functions, regularization, or anything else you can think of to train a model that achieves **at least 70%** accuracy on the **validation** set within 10 epochs. You can use the built-in train function, the `train_part34` function from above, or implement your own training loop.\n",
        "\n",
        "Describe what you did at the end of the notebook.\n",
        "\n",
        "### Some things you can try:\n",
        "- **Filter size**: Above we used 5x5 and 3x3; is this optimal?\n",
        "- **Number of filters**: Above we used 16 and 32 filters. Would more or fewer do better?\n",
        "- **Pooling**: We didn't use any pooling above. Would this improve the model?\n",
        "- **Normalization**: Would your model be improved with batch normalization, layer normalization, group normalization, or some other normalization strategy?\n",
        "- **Network architecture**: The ConvNet above has only three layers of trainable parameters. Would a deeper model do better? Good architectures to try include:\n",
        "    - [conv-relu-pool]xN -> [affine]xM -> [softmax or SVM]\n",
        "    - [conv-relu-conv-relu-pool]xN -> [affine]xM -> [softmax or SVM]\n",
        "    - [batchnorm-relu-conv]xN -> [affine]xM -> [softmax or SVM]\n",
        "- **Global average pooling**: Instead of flattening after the final convolutional layer, would global average pooling do better? This strategy is used for example in Google's Inception network and in Residual Networks.\n",
        "- **Regularization**: Would some kind of regularization improve performance? Maybe weight decay or dropout?\n",
        "\n",
        "### NOTE: Batch Normalization / Dropout\n",
        "If you are using Batch Normalization and Dropout, remember to pass `is_training=True` if you use the `train_part34()` function. BatchNorm and Dropout layers have different behaviors at training and inference time. `training` is a specific keyword argument reserved for this purpose in any `tf.keras.Model`'s `call()` function. Read more about this here : https://www.tensorflow.org/versions/r2.0/api_docs/python/tf/keras/layers/BatchNormalization#methods\n",
        "https://www.tensorflow.org/versions/r2.0/api_docs/python/tf/keras/layers/Dropout#methods\n",
        "\n",
        "### Tips for training\n",
        "For each network architecture that you try, you should tune the learning rate and other hyperparameters. When doing this there are a couple important things to keep in mind: \n",
        "\n",
        "- If the parameters are working well, you should see improvement within a few hundred iterations\n",
        "- Remember the coarse-to-fine approach for hyperparameter tuning: start by testing a large range of hyperparameters for just a few training iterations to find the combinations of parameters that are working at all.\n",
        "- Once you have found some sets of parameters that seem to work, search more finely around these parameters. You may need to train for more epochs.\n",
        "- You should use the validation set for hyperparameter search, and save your test set for evaluating your architecture on the best parameters as selected by the validation set.\n",
        "\n",
        "### Going above and beyond\n",
        "If you are feeling adventurous there are many other features you can implement to try and improve your performance. You are **not required** to implement any of these, but don't miss the fun if you have time!\n",
        "\n",
        "- Alternative optimizers: you can try Adam, Adagrad, RMSprop, etc.\n",
        "- Alternative activation functions such as leaky ReLU, parametric ReLU, ELU, or MaxOut.\n",
        "- Model ensembles\n",
        "- Data augmentation\n",
        "- New Architectures\n",
        "  - [ResNets](https://arxiv.org/abs/1512.03385) where the input from the previous layer is added to the output.\n",
        "  - [DenseNets](https://arxiv.org/abs/1608.06993) where inputs into previous layers are concatenated together.\n",
        "  - [This blog has an in-depth overview](https://chatbotslife.com/resnets-highwaynets-and-densenets-oh-my-9bb15918ee32)\n",
        "  \n",
        "### Have fun and happy training! "
      ]
    },
    {
      "cell_type": "code",
      "execution_count": null,
      "metadata": {
        "id": "8Bu72Qr9f4pH"
      },
      "outputs": [],
      "source": [
        "def train_part34(model_init_fn, optimizer_init_fn, num_epochs=1, is_training=False):\n",
        " ############################################################################\n",
        "# TODO: Train a model on CIFAR-10.                 #\n",
        "############################################################################\n",
        "# *****START OF YOUR CODE (DO NOT DELETE/MODIFY THIS LINE)*****\n",
        "  if is_training:\n",
        "    model = model_init_fn()\n",
        "    optimizer = optimizer_init_fn()\n",
        "    model.compile(optimizer, loss=\"sparse_categorical_crossentropy\", metrics=['accuracy'])\n",
        "    model.fit(X_train, y_train, batch_size=64, epochs=num_epochs, validation_data=(X_val, y_val), shuffle=True)\n",
        "  return model\n",
        "\n",
        "# *****END OF YOUR CODE (DO NOT DELETE/MODIFY THIS LINE)*****\n",
        "############################################################################\n",
        "#                            END OF YOUR CODE                              #\n",
        "############################################################################"
      ]
    },
    {
      "cell_type": "code",
      "execution_count": null,
      "metadata": {
        "colab": {
          "base_uri": "https://localhost:8080/"
        },
        "id": "105asOXAf4pH",
        "outputId": "5123071a-70e5-4641-9b46-afd422a1d11f"
      },
      "outputs": [
        {
          "output_type": "stream",
          "name": "stdout",
          "text": [
            "Train\n",
            "Epoch 1/10\n",
            "766/766 [==============================] - 1219s 1s/step - loss: 1.2864 - accuracy: 0.5278 - val_loss: 0.9793 - val_accuracy: 0.6560\n",
            "Epoch 2/10\n",
            "766/766 [==============================] - 1128s 1s/step - loss: 0.8414 - accuracy: 0.7031 - val_loss: 0.8379 - val_accuracy: 0.7140\n",
            "Epoch 3/10\n",
            "766/766 [==============================] - 1147s 1s/step - loss: 0.6818 - accuracy: 0.7613 - val_loss: 0.5882 - val_accuracy: 0.8020\n",
            "Epoch 4/10\n",
            "766/766 [==============================] - 1135s 1s/step - loss: 0.5713 - accuracy: 0.7993 - val_loss: 0.7006 - val_accuracy: 0.7600\n",
            "Epoch 5/10\n",
            "766/766 [==============================] - 1125s 1s/step - loss: 0.4949 - accuracy: 0.8275 - val_loss: 0.5874 - val_accuracy: 0.8090\n",
            "Epoch 6/10\n",
            "766/766 [==============================] - 1130s 1s/step - loss: 0.4263 - accuracy: 0.8488 - val_loss: 0.5389 - val_accuracy: 0.8240\n",
            "Epoch 7/10\n",
            "766/766 [==============================] - 1131s 1s/step - loss: 0.3742 - accuracy: 0.8676 - val_loss: 0.5823 - val_accuracy: 0.8340\n",
            "Epoch 8/10\n",
            "766/766 [==============================] - 1128s 1s/step - loss: 0.3168 - accuracy: 0.8872 - val_loss: 0.5090 - val_accuracy: 0.8350\n",
            "Epoch 9/10\n",
            "766/766 [==============================] - 1129s 1s/step - loss: 0.2725 - accuracy: 0.9031 - val_loss: 0.5966 - val_accuracy: 0.8330\n",
            "Epoch 10/10\n",
            "766/766 [==============================] - 1144s 1s/step - loss: 0.2375 - accuracy: 0.9166 - val_loss: 0.7666 - val_accuracy: 0.7970\n",
            "Test\n",
            "313/313 [==============================] - 55s 177ms/step - loss: 0.7076 - accuracy: 0.7982\n",
            "Test loss: 0.7076130509376526\n",
            "Test accuracy: 0.7982000112533569\n"
          ]
        }
      ],
      "source": [
        "# With reference to kaggle: https://www.kaggle.com/vakninmaor/cifar-10-for-beginners-score-90\n",
        "\n",
        "from tensorflow import keras\n",
        "from keras import layers\n",
        "\n",
        "class CustomConvNet(tf.keras.Model):\n",
        "    def __init__(self):\n",
        "        super(CustomConvNet, self).__init__()\n",
        "        ############################################################################\n",
        "        # TODO: Construct a model that performs well on CIFAR-10                   #\n",
        "        ############################################################################\n",
        "        # *****START OF YOUR CODE (DO NOT DELETE/MODIFY THIS LINE)*****\n",
        "\n",
        "        self.conv1 = layers.Conv2D(32, (3, 3), activation='relu', strides=(1,1), padding='same', input_shape=(32, 32, 3))\n",
        "        self.bn1 = layers.BatchNormalization()\n",
        "        self.dc1 = layers.DepthwiseConv2D(kernel_size=(3,3), strides=(1, 1), padding='same', activation=keras.activations.relu, depth_multiplier=3)\n",
        "        self.dp1 = layers.Dropout(rate=0.1)\n",
        "    \n",
        "        self.conv2 = layers.Conv2D(64, (3, 3), activation='relu', strides=(2, 2), padding='same')\n",
        "        self.bn2 = layers.BatchNormalization()\n",
        "        self.dc2 = layers.DepthwiseConv2D(kernel_size=(3,3), strides=(1, 1), padding='same', activation=keras.activations.relu)\n",
        "        self.dp2 = layers.Dropout(rate=0.1)\n",
        "\n",
        "        self.conv3 = layers.Conv2D(128, (3, 3), activation='relu', strides=(1, 1), padding='same')\n",
        "        self.bn3 = layers.BatchNormalization()\n",
        "        self.dc3 = layers.DepthwiseConv2D(kernel_size=(3,3), strides=(1, 1), padding='same', activation=keras.activations.relu)\n",
        "        self.dp3 = layers.Dropout(rate = 0.4)\n",
        "\n",
        "        self.conv4 = layers.Conv2D(128, (3, 3), activation='relu', strides=(1, 1), padding='same')\n",
        "        self.bn4 = layers.BatchNormalization()\n",
        "        self.dc4 = layers.DepthwiseConv2D(kernel_size=(1,1), strides=(1, 1), padding='same', activation=keras.activations.relu)\n",
        "    \n",
        "    \n",
        "        self.conv5 = layers.Conv2D(256, (3, 3), activation='relu', strides=(2, 2), padding='same')\n",
        "        self.bn5 = layers.BatchNormalization()\n",
        "        self.dc5 = layers.DepthwiseConv2D(kernel_size=(3,3), strides=(1, 1), padding='same', activation=keras.activations.relu)\n",
        "\n",
        "    \n",
        "        self.conv6 = layers.Conv2D(512, (1, 1), activation='relu', strides=(2, 2), padding='same')\n",
        "        self.bn6 = layers.BatchNormalization()\n",
        "        self.dc6 = layers.DepthwiseConv2D(kernel_size=(1,1), strides=(1, 1), padding='same', activation=keras.activations.relu)\n",
        "        self.dp4 = layers.Dropout(rate = 0.4)\n",
        "\n",
        "        self.flat = layers.Flatten()\n",
        "        self.den1 = layers.Dense(2048, activation='relu')\n",
        "        self.den2 = layers.Dense(512, activation='relu')\n",
        "        self.den3 = layers.Dense(10, activation='softmax')\n",
        "\n",
        "        # *****END OF YOUR CODE (DO NOT DELETE/MODIFY THIS LINE)*****\n",
        "        ############################################################################\n",
        "        #                            END OF YOUR CODE                              #\n",
        "        ############################################################################\n",
        "    \n",
        "    def call(self, input_tensor, training=False):\n",
        "        ############################################################################\n",
        "        # TODO: Construct a model that performs well on CIFAR-10                   #\n",
        "        ############################################################################\n",
        "        # *****START OF YOUR CODE (DO NOT DELETE/MODIFY THIS LINE)*****\n",
        "\n",
        "        output = self.conv1(input_tensor)\n",
        "        output = self.bn1(output)\n",
        "        output = self.dc1(output)\n",
        "        output = self.dp1(output)\n",
        "    \n",
        "        output = self.conv2(output)\n",
        "        output = self.bn2(output)\n",
        "        output = self.dc2(output)\n",
        "        output = self.dp2(output)\n",
        "    \n",
        "        output = self.conv3(output)\n",
        "        output = self.bn3(output)\n",
        "        output = self.dc3(output)\n",
        "        output = self.dp3(output)\n",
        "    \n",
        "        output = self.conv4(output)\n",
        "        output = self.bn4(output)\n",
        "        output = self.dc4(output)\n",
        "    \n",
        "    \n",
        "        output = self.conv5(output)\n",
        "        output = self.bn5(output)\n",
        "        output = self.dc5(output)\n",
        "\n",
        "    \n",
        "        output = self.conv6(output)\n",
        "        output = self.bn6(output)\n",
        "        output = self.dc6(output)\n",
        "        output = self.dp4(output)\n",
        "        \n",
        "        output = self.flat(output)\n",
        "        output = self.den1(output)\n",
        "        output = self.den2(output)\n",
        "        output = self.den3(output)\n",
        "        # *****END OF YOUR CODE (DO NOT DELETE/MODIFY THIS LINE)*****\n",
        "        ############################################################################\n",
        "        #                            END OF YOUR CODE                              #\n",
        "        ############################################################################\n",
        "        \n",
        "        return output\n",
        "\n",
        "device = '/device:GPU:0'   # Change this to a CPU/GPU as you wish!\n",
        "# device = '/cpu:0'        # Change this to a CPU/GPU as you wish!\n",
        "print_every = 700\n",
        "num_epochs = 10\n",
        "\n",
        "model = CustomConvNet()\n",
        "\n",
        "def model_init_fn():\n",
        "    return CustomConvNet()\n",
        "\n",
        "def optimizer_init_fn():\n",
        "    learning_rate = 1e-3\n",
        "    return tf.keras.optimizers.Adam(learning_rate) \n",
        "print('Train')\n",
        "trained_params =train_part34(model_init_fn, optimizer_init_fn, num_epochs=num_epochs, is_training=True)\n",
        "\n",
        "model = model_init_fn()\n",
        "print('Test')\n",
        "score = trained_params.evaluate(X_test, y_test)\n",
        "print('Test loss:', score[0])\n",
        "print('Test accuracy:', score[1])"
      ]
    },
    {
      "cell_type": "markdown",
      "metadata": {
        "tags": [
          "pdf-inline"
        ],
        "id": "Y7jFVyBTf4pH"
      },
      "source": [
        "## Describe what you did \n",
        "\n",
        "In the cell below you should write an explanation of what you did, any additional features that you implemented, and/or any graphs that you made in the process of training and evaluating your network."
      ]
    },
    {
      "cell_type": "markdown",
      "metadata": {
        "tags": [
          "pdf-inline"
        ],
        "id": "Ei6D1NHOf4pI"
      },
      "source": [
        "This neural network has 12 convolution blocks. six convolution blocks are normal convolution and the other six are depthwise convolution. Between each convolution block, batch normalization is used to 'reset' the distribution of the output of the previous layer to be more efficiently processed by the subsequent layer. To avoid overfitting, a dropout is used at the end of 2 convolution blocks.\n",
        "\n",
        "After the 12 convolution blocks, the flatten is used to convert the 4D inputs into 2D which is required for the next fully-connected dense layer. Two dense ReLU layers are used to combine the layers and followed by a final softmax layer for classification. This final layer contains probabilities of the 10 classes in which the sum is 1 and the argmax would be the predicted label."
      ]
    },
    {
      "cell_type": "code",
      "source": [
        ""
      ],
      "metadata": {
        "id": "Koj2hcD0nBmM"
      },
      "execution_count": null,
      "outputs": []
    }
  ],
  "metadata": {
    "kernelspec": {
      "display_name": "Python 3",
      "language": "python",
      "name": "python3"
    },
    "language_info": {
      "codemirror_mode": {
        "name": "ipython",
        "version": 3
      },
      "file_extension": ".py",
      "mimetype": "text/x-python",
      "name": "python",
      "nbconvert_exporter": "python",
      "pygments_lexer": "ipython3",
      "version": "3.8.12"
    },
    "colab": {
      "name": "TensorFlow.ipynb",
      "provenance": [],
      "collapsed_sections": []
    }
  },
  "nbformat": 4,
  "nbformat_minor": 0
}