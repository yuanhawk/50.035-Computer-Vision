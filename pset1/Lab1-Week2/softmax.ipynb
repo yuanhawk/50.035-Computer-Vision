{
 "cells": [
  {
   "cell_type": "markdown",
   "metadata": {},
   "source": [
    "# Softmax exercise\n",
    "\n",
    "*Complete and hand in this completed worksheet (including its outputs and any supporting code outside of the worksheet) with your assignment submission.*\n",
    "\n",
    "In this exercise, you will:\n",
    "\n",
    "- implement a fully-vectorized **loss function** for the Softmax classifier\n",
    "- implement the fully-vectorized expression for its **analytic gradient**\n",
    "- **check your implementation** with numerical gradient\n",
    "- use a validation set to **tune the learning rate and regularization** strength\n",
    "- **optimize** the loss function with **SGD**\n",
    "- **visualize** the final learned weights\n"
   ]
  },
  {
   "cell_type": "markdown",
   "metadata": {},
   "source": [
    "**Acknowledgement: This exercise is adapted from [Stanford CS231n](http://cs231n.stanford.edu/).**"
   ]
  },
  {
   "cell_type": "code",
   "execution_count": 68,
   "metadata": {},
   "outputs": [
    {
     "name": "stdout",
     "output_type": "stream",
     "text": [
      "The autoreload extension is already loaded. To reload it, use:\n",
      "  %reload_ext autoreload\n"
     ]
    }
   ],
   "source": [
    "import random\n",
    "import numpy as np\n",
    "from data_utils import load_CIFAR10\n",
    "import matplotlib.pyplot as plt\n",
    "\n",
    "%matplotlib inline\n",
    "plt.rcParams['figure.figsize'] = (10.0, 8.0) # set default size of plots\n",
    "plt.rcParams['image.interpolation'] = 'nearest'\n",
    "plt.rcParams['image.cmap'] = 'gray'\n",
    "\n",
    "# for auto-reloading extenrnal modules\n",
    "# see http://stackoverflow.com/questions/1907993/autoreload-of-modules-in-ipython\n",
    "%load_ext autoreload\n",
    "%autoreload 2"
   ]
  },
  {
   "cell_type": "code",
   "execution_count": 69,
   "metadata": {},
   "outputs": [],
   "source": [
    "def rel_error(out, correct_out):\n",
    "    return np.sum(abs(out - correct_out) / (abs(out) + abs(correct_out)))"
   ]
  },
  {
   "cell_type": "code",
   "execution_count": 70,
   "metadata": {
    "collapsed": true
   },
   "outputs": [
    {
     "name": "stdout",
     "output_type": "stream",
     "text": [
      "Train data shape:  (49000, 3073)\n",
      "Train labels shape:  (49000,)\n",
      "Validation data shape:  (1000, 3073)\n",
      "Validation labels shape:  (1000,)\n",
      "Test data shape:  (1000, 3073)\n",
      "Test labels shape:  (1000,)\n",
      "dev data shape:  (500, 3073)\n",
      "dev labels shape:  (500,)\n"
     ]
    }
   ],
   "source": [
    "def get_CIFAR10_data(num_training=49000, num_validation=1000, num_test=1000, num_dev=500):\n",
    "    \"\"\"\n",
    "    Load the CIFAR-10 dataset from disk and perform preprocessing to prepare\n",
    "    it for the linear classifier. These are the same steps as we used for the\n",
    "    Softmax, but condensed to a single function.  \n",
    "    \"\"\"\n",
    "    # Load the raw CIFAR-10 data\n",
    "    cifar10_dir = 'datasets/cifar-10-batches-py'\n",
    "    X_train, y_train, X_test, y_test = load_CIFAR10(cifar10_dir)\n",
    "\n",
    "    # subsample the data\n",
    "    mask = range(num_training, num_training + num_validation)\n",
    "    X_val = X_train[mask]\n",
    "    y_val = y_train[mask]\n",
    "    mask = range(num_training)\n",
    "    X_train = X_train[mask]\n",
    "    y_train = y_train[mask]\n",
    "    mask = range(num_test)\n",
    "    X_test = X_test[mask]\n",
    "    y_test = y_test[mask]\n",
    "    \n",
    "    # # We will also make a development set, which is a small subset of\n",
    "    # the training set.\n",
    "    mask = np.random.choice(num_training, num_dev, replace=False)\n",
    "    X_dev = X_train[mask]\n",
    "    y_dev = y_train[mask]\n",
    "\n",
    "    # Preprocessing: reshape the image data into rows\n",
    "    X_train = np.reshape(X_train, (X_train.shape[0], -1))\n",
    "    X_val = np.reshape(X_val, (X_val.shape[0], -1))\n",
    "    X_test = np.reshape(X_test, (X_test.shape[0], -1))\n",
    "    X_dev = np.reshape(X_dev, (X_dev.shape[0], -1))\n",
    "\n",
    "    # Normalize the data: subtract the mean image\n",
    "    mean_image = np.mean(X_train, axis = 0)\n",
    "    X_train -= mean_image\n",
    "    X_val -= mean_image\n",
    "    X_test -= mean_image\n",
    "    X_dev -= mean_image\n",
    "\n",
    "    # add bias dimension and transform into columns\n",
    "    X_train = np.hstack([X_train, np.ones((X_train.shape[0], 1))])\n",
    "    X_val = np.hstack([X_val, np.ones((X_val.shape[0], 1))])\n",
    "    X_test = np.hstack([X_test, np.ones((X_test.shape[0], 1))])\n",
    "    X_dev = np.hstack([X_dev, np.ones((X_dev.shape[0], 1))])\n",
    "\n",
    "    return X_train, y_train, X_val, y_val, X_test, y_test, X_dev, y_dev\n",
    "\n",
    "\n",
    "# Invoke the above function to get our data.\n",
    "X_train, y_train, X_val, y_val, X_test, y_test, X_dev, y_dev = get_CIFAR10_data()\n",
    "print('Train data shape: ', X_train.shape)\n",
    "print('Train labels shape: ', y_train.shape)\n",
    "print('Validation data shape: ', X_val.shape)\n",
    "print('Validation labels shape: ', y_val.shape)\n",
    "print('Test data shape: ', X_test.shape)\n",
    "print('Test labels shape: ', y_test.shape)\n",
    "print('dev data shape: ', X_dev.shape)\n",
    "print('dev labels shape: ', y_dev.shape)"
   ]
  },
  {
   "cell_type": "code",
   "execution_count": 71,
   "metadata": {},
   "outputs": [],
   "source": [
    "# Create one-hot vectors for label\n",
    "num_class = 10\n",
    "y_train_oh = np.zeros((y_train.shape[0], 10))\n",
    "y_train_oh[np.arange(y_train.shape[0]), y_train] = 1\n",
    "y_val_oh = np.zeros((y_val.shape[0], 10))\n",
    "y_val_oh[np.arange(y_val.shape[0]), y_val] = 1\n",
    "y_test_oh = np.zeros((y_test.shape[0], 10))\n",
    "y_test_oh[np.arange(y_test.shape[0]), y_test] = 1\n",
    "\n",
    "y_dev_oh = np.zeros((y_dev.shape[0], 10))\n",
    "y_dev_oh[np.arange(y_dev.shape[0]), y_dev] = 1"
   ]
  },
  {
   "cell_type": "markdown",
   "metadata": {},
   "source": [
    "# Regression as classifier\n",
    "The most simple and straightforward approach to learn a classifier is to map the input data (raw image values) to class label (one-hot vector). The loss function is defined as following: \n",
    "$$\\mathcal{L}=\\frac{1}{n}\\|\\mathbf{X}\\mathbf{W}-\\mathbf{y}\\|_F^2\\qquad\\qquad(1)$$\n",
    "Where:\n",
    "* $\\mathbf{W}\\in \\mathbb{R}^{(d+1)\\times C}$: Classifier weight\n",
    "* $\\mathbf{X}\\in \\mathbb{R}^{n\\times (d+1)}$: Dataset\n",
    "* $\\mathbf{y}\\in \\mathbb{R}^{n\\times C}$: Class label (one-hot vector)"
   ]
  },
  {
   "cell_type": "markdown",
   "metadata": {},
   "source": [
    "# Optimization\n",
    "Given the loss function (1), the next problem is how to solve the weight $\\mathbf{W}$. We now discuss 2 approaches: \n",
    " * Random search\n",
    " * Closed-form solution\n",
    "\n",
    "## Random search"
   ]
  },
  {
   "cell_type": "code",
   "execution_count": 72,
   "metadata": {
    "collapsed": true
   },
   "outputs": [
    {
     "name": "stdout",
     "output_type": "stream",
     "text": [
      "in attempt 0 the loss was 32.694270, best 32.694270\n",
      "in attempt 1 the loss was 34.394472, best 32.694270\n",
      "in attempt 2 the loss was 32.149554, best 32.149554\n",
      "in attempt 3 the loss was 31.482261, best 31.482261\n",
      "in attempt 4 the loss was 36.172611, best 31.482261\n",
      "in attempt 5 the loss was 34.288936, best 31.482261\n",
      "in attempt 6 the loss was 32.232001, best 31.482261\n",
      "in attempt 7 the loss was 34.590341, best 31.482261\n",
      "in attempt 8 the loss was 32.667573, best 31.482261\n",
      "in attempt 9 the loss was 33.450594, best 31.482261\n",
      "in attempt 10 the loss was 31.938336, best 31.482261\n",
      "in attempt 11 the loss was 34.014342, best 31.482261\n",
      "in attempt 12 the loss was 32.724830, best 31.482261\n",
      "in attempt 13 the loss was 32.886012, best 31.482261\n",
      "in attempt 14 the loss was 32.958307, best 31.482261\n",
      "in attempt 15 the loss was 33.818885, best 31.482261\n",
      "in attempt 16 the loss was 34.470584, best 31.482261\n",
      "in attempt 17 the loss was 32.534231, best 31.482261\n",
      "in attempt 18 the loss was 32.047879, best 31.482261\n",
      "in attempt 19 the loss was 33.431597, best 31.482261\n",
      "in attempt 20 the loss was 31.183650, best 31.183650\n",
      "in attempt 21 the loss was 33.662224, best 31.183650\n",
      "in attempt 22 the loss was 34.561508, best 31.183650\n",
      "in attempt 23 the loss was 32.973363, best 31.183650\n",
      "in attempt 24 the loss was 35.926708, best 31.183650\n",
      "in attempt 25 the loss was 32.412630, best 31.183650\n",
      "in attempt 26 the loss was 32.526896, best 31.183650\n",
      "in attempt 27 the loss was 33.771348, best 31.183650\n",
      "in attempt 28 the loss was 30.506451, best 30.506451\n",
      "in attempt 29 the loss was 33.108784, best 30.506451\n",
      "in attempt 30 the loss was 31.912296, best 30.506451\n",
      "in attempt 31 the loss was 31.887264, best 30.506451\n",
      "in attempt 32 the loss was 33.115334, best 30.506451\n",
      "in attempt 33 the loss was 35.677368, best 30.506451\n",
      "in attempt 34 the loss was 33.240559, best 30.506451\n",
      "in attempt 35 the loss was 34.662702, best 30.506451\n",
      "in attempt 36 the loss was 33.370825, best 30.506451\n",
      "in attempt 37 the loss was 31.694390, best 30.506451\n",
      "in attempt 38 the loss was 32.042085, best 30.506451\n",
      "in attempt 39 the loss was 33.063707, best 30.506451\n",
      "in attempt 40 the loss was 33.878079, best 30.506451\n",
      "in attempt 41 the loss was 32.410833, best 30.506451\n",
      "in attempt 42 the loss was 33.205971, best 30.506451\n",
      "in attempt 43 the loss was 31.721150, best 30.506451\n",
      "in attempt 44 the loss was 31.724842, best 30.506451\n",
      "in attempt 45 the loss was 37.666481, best 30.506451\n",
      "in attempt 46 the loss was 33.017641, best 30.506451\n",
      "in attempt 47 the loss was 33.067731, best 30.506451\n",
      "in attempt 48 the loss was 32.298925, best 30.506451\n",
      "in attempt 49 the loss was 34.632873, best 30.506451\n",
      "in attempt 50 the loss was 31.867720, best 30.506451\n",
      "in attempt 51 the loss was 32.775188, best 30.506451\n",
      "in attempt 52 the loss was 31.510162, best 30.506451\n",
      "in attempt 53 the loss was 35.020824, best 30.506451\n",
      "in attempt 54 the loss was 33.592871, best 30.506451\n",
      "in attempt 55 the loss was 32.960813, best 30.506451\n",
      "in attempt 56 the loss was 30.299083, best 30.299083\n",
      "in attempt 57 the loss was 32.642903, best 30.299083\n",
      "in attempt 58 the loss was 32.913965, best 30.299083\n",
      "in attempt 59 the loss was 35.897258, best 30.299083\n",
      "in attempt 60 the loss was 32.864438, best 30.299083\n",
      "in attempt 61 the loss was 32.153737, best 30.299083\n",
      "in attempt 62 the loss was 33.682225, best 30.299083\n",
      "in attempt 63 the loss was 33.189637, best 30.299083\n",
      "in attempt 64 the loss was 31.030622, best 30.299083\n",
      "in attempt 65 the loss was 33.308779, best 30.299083\n",
      "in attempt 66 the loss was 37.311111, best 30.299083\n",
      "in attempt 67 the loss was 34.147351, best 30.299083\n",
      "in attempt 68 the loss was 34.068034, best 30.299083\n",
      "in attempt 69 the loss was 33.816907, best 30.299083\n",
      "in attempt 70 the loss was 33.713722, best 30.299083\n",
      "in attempt 71 the loss was 33.281916, best 30.299083\n",
      "in attempt 72 the loss was 32.096407, best 30.299083\n",
      "in attempt 73 the loss was 34.430727, best 30.299083\n",
      "in attempt 74 the loss was 32.324098, best 30.299083\n",
      "in attempt 75 the loss was 31.572126, best 30.299083\n",
      "in attempt 76 the loss was 32.278138, best 30.299083\n",
      "in attempt 77 the loss was 34.872991, best 30.299083\n",
      "in attempt 78 the loss was 34.426620, best 30.299083\n",
      "in attempt 79 the loss was 31.985299, best 30.299083\n",
      "in attempt 80 the loss was 33.269000, best 30.299083\n",
      "in attempt 81 the loss was 32.293074, best 30.299083\n",
      "in attempt 82 the loss was 34.659976, best 30.299083\n",
      "in attempt 83 the loss was 33.656185, best 30.299083\n",
      "in attempt 84 the loss was 33.389173, best 30.299083\n",
      "in attempt 85 the loss was 31.025324, best 30.299083\n",
      "in attempt 86 the loss was 32.172511, best 30.299083\n",
      "in attempt 87 the loss was 33.093070, best 30.299083\n",
      "in attempt 88 the loss was 33.455644, best 30.299083\n",
      "in attempt 89 the loss was 34.594314, best 30.299083\n",
      "in attempt 90 the loss was 32.774386, best 30.299083\n",
      "in attempt 91 the loss was 34.419542, best 30.299083\n",
      "in attempt 92 the loss was 36.523724, best 30.299083\n",
      "in attempt 93 the loss was 37.064623, best 30.299083\n",
      "in attempt 94 the loss was 33.708615, best 30.299083\n",
      "in attempt 95 the loss was 31.507057, best 30.299083\n",
      "in attempt 96 the loss was 32.974678, best 30.299083\n",
      "in attempt 97 the loss was 32.371820, best 30.299083\n",
      "in attempt 98 the loss was 34.498275, best 30.299083\n",
      "in attempt 99 the loss was 35.767410, best 30.299083\n"
     ]
    }
   ],
   "source": [
    "bestloss = float('inf')\n",
    "for num in range(100):\n",
    "    W = np.random.randn(3073, 10) * 0.0001\n",
    "    loss = np.linalg.norm(X_dev.dot(W) - y_dev_oh)\n",
    "    if (loss < bestloss):\n",
    "        bestloss = loss\n",
    "        bestW = W\n",
    "    print('in attempt %d the loss was %f, best %f' % (num, loss, bestloss))"
   ]
  },
  {
   "cell_type": "code",
   "execution_count": 73,
   "metadata": {
    "collapsed": true
   },
   "outputs": [
    {
     "name": "stdout",
     "output_type": "stream",
     "text": [
      "Accuracy on train set:  11.4\n",
      "Accuracy on test set:  9.700000000000001\n"
     ]
    }
   ],
   "source": [
    "# How bestW perform:\n",
    "print('Accuracy on train set: ', np.sum(np.argmin(np.abs(1 - X_dev.dot(W)), axis=1) == y_dev).astype(np.float32)/y_dev.shape[0]*100)\n",
    "print('Accuracy on test set: ', np.sum(np.argmin(np.abs(1 - X_test.dot(W)), axis=1) == y_test).astype(np.float32)/y_test.shape[0]*100)"
   ]
  },
  {
   "cell_type": "markdown",
   "metadata": {},
   "source": [
    "You can clearly see that the performance is very low, almost at the random level."
   ]
  },
  {
   "cell_type": "markdown",
   "metadata": {},
   "source": [
    "## Closed-form solution\n",
    "The closed-form solution is achieved by:\n",
    "$$\\frac{\\partial\\mathcal{L}}{\\partial \\mathbf{W}}=\\frac{2}{n}\\mathbf{X}^T(\\mathbf{X}\\mathbf{W}-\\mathbf{y})=0$$\n",
    "\n",
    "$$\\Leftrightarrow\\mathbf{W}^\\ast=(\\mathbf{X}^T\\mathbf{X})^{-1}\\mathbf{X}^T\\mathbf{y}$$"
   ]
  },
  {
   "cell_type": "code",
   "execution_count": 75,
   "metadata": {},
   "outputs": [],
   "source": [
    "################################################################################\n",
    "# TODO:                                                                        #\n",
    "# Implement the closed-form solution of the weight W.                          #\n",
    "################################################################################\n",
    "X_trans_X = X_train.T.dot(X_train)\n",
    "X_trans_y = X_train.T.dot(y_train_oh)\n",
    "W = np.linalg.inv(X_trans_X).dot(X_trans_y)\n",
    "################################################################################\n",
    "#                              END OF YOUR CODE                                #\n",
    "################################################################################"
   ]
  },
  {
   "cell_type": "code",
   "execution_count": 76,
   "metadata": {
    "collapsed": true
   },
   "outputs": [
    {
     "name": "stdout",
     "output_type": "stream",
     "text": [
      "Train set accuracy:  51.163265306122454\n",
      "Test set accuracy:  36.199999999999996\n"
     ]
    }
   ],
   "source": [
    "# Check accuracy:\n",
    "print('Train set accuracy: ', np.sum(np.argmin(np.abs(1 - X_train.dot(W)), axis=1) == y_train).astype(np.float32)/y_train.shape[0]*100)\n",
    "print('Test set accuracy: ', np.sum(np.argmin(np.abs(1 - X_test.dot(W)), axis=1) == y_test).astype(np.float32)/y_test.shape[0]*100)"
   ]
  },
  {
   "cell_type": "markdown",
   "metadata": {},
   "source": [
    "Now, you can see that the performance is much better."
   ]
  },
  {
   "cell_type": "markdown",
   "metadata": {},
   "source": [
    "## Regularization\n",
    "A simple way to improve performance is to include the L2-regularization penalty.\n",
    "$$\\mathcal{L}=\\frac{1}{n}\\|\\mathbf{X}\\mathbf{W}-\\mathbf{y}\\|_F^2 +\\lambda \\|\\mathbf{W}\\|_F^2 \\qquad\\qquad(2)$$\n",
    "The closed-form solution now is: \n",
    "$$\\Leftrightarrow\\mathbf{W}^\\ast=(\\mathbf{X}^T\\mathbf{X}+\\lambda n\\mathbf{I})^{-1}\\mathbf{X}^T\\mathbf{y}$$"
   ]
  },
  {
   "cell_type": "code",
   "execution_count": 77,
   "metadata": {},
   "outputs": [],
   "source": [
    "# try several values of lambda to see how it helps:\n",
    "lambdas = [0.01, 0.1, 1, 10, 100, 1000, 10000, 100000]\n",
    "train_acc = np.zeros((len(lambdas)))\n",
    "test_acc = np.zeros((len(lambdas)))\n",
    "for i in range(len(lambdas)):\n",
    "    l = lambdas[i]\n",
    "    n,d = X_train.shape[0], X_train.shape[1]\n",
    "    ################################################################################\n",
    "    # TODO:                                                                        #\n",
    "    # Implement the closed-form solution of the weight W with regularization.      #\n",
    "    ################################################################################\n",
    "    lam_n_I = l * n * np.identity(d)\n",
    "    W = np.linalg.inv(X_trans_X + lam_n_I).dot(X_trans_y)\n",
    "    ################################################################################\n",
    "    #                              END OF YOUR CODE                                #\n",
    "    ################################################################################\n",
    "    train_acc[i] = np.sum(np.argmin(np.abs(1 - X_train.dot(W)), axis=1) == y_train).astype(np.float32)/y_train.shape[0]*100\n",
    "    test_acc[i]  = np.sum(np.argmin(np.abs(1 - X_test.dot(W)), axis=1) == y_test).astype(np.float32)/y_test.shape[0]*100"
   ]
  },
  {
   "cell_type": "code",
   "execution_count": 78,
   "metadata": {
    "collapsed": true
   },
   "outputs": [
    {
     "data": {
      "image/png": "[encoded data removed]",
      "text/plain": [
       "<Figure size 720x576 with 1 Axes>"
      ]
     },
     "metadata": {
      "needs_background": "light"
     },
     "output_type": "display_data"
    }
   ],
   "source": [
    "plt.semilogx(lambdas, train_acc, 'r', label=\"Training accuracy\")\n",
    "plt.semilogx(lambdas, test_acc, 'g', label=\"Testing accuracy\")\n",
    "\n",
    "plt.legend()\n",
    "plt.grid(True)\n",
    "plt.show()"
   ]
  },
  {
   "cell_type": "markdown",
   "metadata": {},
   "source": [
    "**Question:** Try to explain why the performances on the training and test set have such behaviors as we change the value of $\\lambda$."
   ]
  },
  {
   "cell_type": "markdown",
   "metadata": {},
   "source": [
    "**Your answer:** When lambda is increased, larger weights are penalized, leading to weights becoming smaller, and this reduces the likelihood of overfitting until it reaches to a maximum point, where testing accuracy drops."
   ]
  },
  {
   "cell_type": "markdown",
   "metadata": {},
   "source": [
    "## Softmax Classifier\n",
    "\n",
    "The predicted probability for the $j$-th class given a sample vector $x$ and a weight $W$ is:\n",
    "\n",
    "$$\\displaystyle{P(y=j\\mid x)=\\frac{e^{-xw_j}}{\\sum\\limits_{c=1}^{C}e^{-xw_c}}}$$ \n",
    "\n",
    "![softmax](imgs/softmax.png \"Example of Softmax\")\n",
    "\n",
    "Your code for this section will all be written inside **classifiers/softmax.py**. \n"
   ]
  },
  {
   "cell_type": "code",
   "execution_count": 92,
   "metadata": {
    "scrolled": true
   },
   "outputs": [
    {
     "name": "stdout",
     "output_type": "stream",
     "text": [
      "loss: 2.293640\n",
      "sanity check: 2.302585\n"
     ]
    }
   ],
   "source": [
    "# First implement the naive softmax loss function with nested loops.\n",
    "# Open the file classifiers/softmax.py and implement the\n",
    "# softmax_loss_naive function.\n",
    "\n",
    "from classifiers.softmax import softmax_loss_naive\n",
    "import time\n",
    "\n",
    "# Generate a random softmax weight matrix and use it to compute the loss.\n",
    "W = np.random.randn(3073, 10) * 0.0001\n",
    "loss, grad = softmax_loss_naive(W, X_dev, y_dev, 0.0)\n",
    "\n",
    "# As a rough sanity check, our loss should be something close to -log(0.1).\n",
    "print('loss: %f' % loss)\n",
    "print('sanity check: %f' % (-np.log(0.1)))"
   ]
  },
  {
   "cell_type": "markdown",
   "metadata": {},
   "source": [
    "**Question:** Why do we expect our loss to be close to -log(0.1)? Explain briefly.**"
   ]
  },
  {
   "cell_type": "markdown",
   "metadata": {},
   "source": [
    "**Your answer:** Since there are 10 classes, the accuracy is expected to be 1/10. Over a number of samples, the accuracy will tend towards -log(0.1), which will also be the cross entropy loss."
   ]
  },
  {
   "cell_type": "markdown",
   "metadata": {},
   "source": [
    "# Optimization\n",
    "\n",
    "\n",
    "## Random search"
   ]
  },
  {
   "cell_type": "code",
   "execution_count": 93,
   "metadata": {
    "collapsed": true
   },
   "outputs": [
    {
     "name": "stdout",
     "output_type": "stream",
     "text": [
      "in attempt 0 the loss was 2.393729, best 2.393729\n",
      "in attempt 1 the loss was 2.354815, best 2.354815\n",
      "in attempt 2 the loss was 2.371811, best 2.354815\n",
      "in attempt 3 the loss was 2.397652, best 2.354815\n",
      "in attempt 4 the loss was 2.307329, best 2.307329\n",
      "in attempt 5 the loss was 2.352529, best 2.307329\n",
      "in attempt 6 the loss was 2.350555, best 2.307329\n",
      "in attempt 7 the loss was 2.339630, best 2.307329\n",
      "in attempt 8 the loss was 2.371246, best 2.307329\n",
      "in attempt 9 the loss was 2.322745, best 2.307329\n",
      "in attempt 10 the loss was 2.349630, best 2.307329\n",
      "in attempt 11 the loss was 2.363186, best 2.307329\n",
      "in attempt 12 the loss was 2.284782, best 2.284782\n",
      "in attempt 13 the loss was 2.411736, best 2.284782\n",
      "in attempt 14 the loss was 2.414381, best 2.284782\n",
      "in attempt 15 the loss was 2.369248, best 2.284782\n",
      "in attempt 16 the loss was 2.382573, best 2.284782\n",
      "in attempt 17 the loss was 2.281322, best 2.281322\n",
      "in attempt 18 the loss was 2.320472, best 2.281322\n",
      "in attempt 19 the loss was 2.290912, best 2.281322\n",
      "in attempt 20 the loss was 2.361531, best 2.281322\n",
      "in attempt 21 the loss was 2.396997, best 2.281322\n",
      "in attempt 22 the loss was 2.413030, best 2.281322\n",
      "in attempt 23 the loss was 2.379525, best 2.281322\n",
      "in attempt 24 the loss was 2.329606, best 2.281322\n",
      "in attempt 25 the loss was 2.352674, best 2.281322\n",
      "in attempt 26 the loss was 2.348763, best 2.281322\n",
      "in attempt 27 the loss was 2.321409, best 2.281322\n",
      "in attempt 28 the loss was 2.318006, best 2.281322\n",
      "in attempt 29 the loss was 2.340232, best 2.281322\n",
      "in attempt 30 the loss was 2.296730, best 2.281322\n",
      "in attempt 31 the loss was 2.293340, best 2.281322\n",
      "in attempt 32 the loss was 2.357549, best 2.281322\n",
      "in attempt 33 the loss was 2.363098, best 2.281322\n",
      "in attempt 34 the loss was 2.399552, best 2.281322\n",
      "in attempt 35 the loss was 2.428867, best 2.281322\n",
      "in attempt 36 the loss was 2.338190, best 2.281322\n",
      "in attempt 37 the loss was 2.360225, best 2.281322\n",
      "in attempt 38 the loss was 2.339437, best 2.281322\n",
      "in attempt 39 the loss was 2.370745, best 2.281322\n",
      "in attempt 40 the loss was 2.369674, best 2.281322\n",
      "in attempt 41 the loss was 2.373975, best 2.281322\n",
      "in attempt 42 the loss was 2.379312, best 2.281322\n",
      "in attempt 43 the loss was 2.368634, best 2.281322\n",
      "in attempt 44 the loss was 2.351920, best 2.281322\n",
      "in attempt 45 the loss was 2.345048, best 2.281322\n",
      "in attempt 46 the loss was 2.342992, best 2.281322\n",
      "in attempt 47 the loss was 2.334386, best 2.281322\n",
      "in attempt 48 the loss was 2.457134, best 2.281322\n",
      "in attempt 49 the loss was 2.337640, best 2.281322\n",
      "in attempt 50 the loss was 2.328065, best 2.281322\n",
      "in attempt 51 the loss was 2.335092, best 2.281322\n",
      "in attempt 52 the loss was 2.318396, best 2.281322\n",
      "in attempt 53 the loss was 2.339143, best 2.281322\n",
      "in attempt 54 the loss was 2.353249, best 2.281322\n",
      "in attempt 55 the loss was 2.346021, best 2.281322\n",
      "in attempt 56 the loss was 2.324158, best 2.281322\n",
      "in attempt 57 the loss was 2.359640, best 2.281322\n",
      "in attempt 58 the loss was 2.340428, best 2.281322\n",
      "in attempt 59 the loss was 2.336402, best 2.281322\n",
      "in attempt 60 the loss was 2.297760, best 2.281322\n",
      "in attempt 61 the loss was 2.406459, best 2.281322\n",
      "in attempt 62 the loss was 2.389814, best 2.281322\n",
      "in attempt 63 the loss was 2.343579, best 2.281322\n",
      "in attempt 64 the loss was 2.312345, best 2.281322\n",
      "in attempt 65 the loss was 2.395344, best 2.281322\n",
      "in attempt 66 the loss was 2.344405, best 2.281322\n",
      "in attempt 67 the loss was 2.346654, best 2.281322\n",
      "in attempt 68 the loss was 2.414396, best 2.281322\n",
      "in attempt 69 the loss was 2.325242, best 2.281322\n",
      "in attempt 70 the loss was 2.334763, best 2.281322\n",
      "in attempt 71 the loss was 2.380777, best 2.281322\n",
      "in attempt 72 the loss was 2.303744, best 2.281322\n",
      "in attempt 73 the loss was 2.402541, best 2.281322\n",
      "in attempt 74 the loss was 2.369552, best 2.281322\n",
      "in attempt 75 the loss was 2.400526, best 2.281322\n",
      "in attempt 76 the loss was 2.312011, best 2.281322\n",
      "in attempt 77 the loss was 2.385033, best 2.281322\n",
      "in attempt 78 the loss was 2.372699, best 2.281322\n",
      "in attempt 79 the loss was 2.328433, best 2.281322\n",
      "in attempt 80 the loss was 2.375012, best 2.281322\n",
      "in attempt 81 the loss was 2.280697, best 2.280697\n",
      "in attempt 82 the loss was 2.377543, best 2.280697\n",
      "in attempt 83 the loss was 2.405143, best 2.280697\n",
      "in attempt 84 the loss was 2.360396, best 2.280697\n",
      "in attempt 85 the loss was 2.352932, best 2.280697\n",
      "in attempt 86 the loss was 2.278960, best 2.278960\n",
      "in attempt 87 the loss was 2.347398, best 2.278960\n",
      "in attempt 88 the loss was 2.359427, best 2.278960\n",
      "in attempt 89 the loss was 2.339891, best 2.278960\n",
      "in attempt 90 the loss was 2.425268, best 2.278960\n",
      "in attempt 91 the loss was 2.349246, best 2.278960\n",
      "in attempt 92 the loss was 2.391206, best 2.278960\n",
      "in attempt 93 the loss was 2.319567, best 2.278960\n",
      "in attempt 94 the loss was 2.328408, best 2.278960\n",
      "in attempt 95 the loss was 2.425515, best 2.278960\n",
      "in attempt 96 the loss was 2.326015, best 2.278960\n",
      "in attempt 97 the loss was 2.428452, best 2.278960\n",
      "in attempt 98 the loss was 2.309950, best 2.278960\n",
      "in attempt 99 the loss was 2.341679, best 2.278960\n"
     ]
    }
   ],
   "source": [
    "bestloss = float('inf')\n",
    "for num in range(100):\n",
    "    W = np.random.randn(3073, 10) * 0.0001\n",
    "    loss, _ = softmax_loss_naive(W, X_dev, y_dev, 0.0)\n",
    "    if (loss < bestloss):\n",
    "        bestloss = loss\n",
    "        bestW = W\n",
    "    print('in attempt %d the loss was %f, best %f' % (num, loss, bestloss))"
   ]
  },
  {
   "cell_type": "code",
   "execution_count": 94,
   "metadata": {
    "collapsed": true
   },
   "outputs": [
    {
     "name": "stdout",
     "output_type": "stream",
     "text": [
      "Accuracy on train set 0.139204\n",
      "Accuracy on test set 0.154000\n"
     ]
    }
   ],
   "source": [
    "# How bestW perform on trainset\n",
    "scores = X_train.dot(bestW)\n",
    "y_pred = np.argmax(scores, axis=1)\n",
    "print('Accuracy on train set %f' % np.mean(y_pred == y_train))\n",
    "\n",
    "# evaluate performance of test set\n",
    "scores = X_test.dot(bestW)\n",
    "y_pred = np.argmax(scores, axis=1)\n",
    "print('Accuracy on test set %f' % np.mean(y_pred == y_test))"
   ]
  },
  {
   "cell_type": "markdown",
   "metadata": {},
   "source": [
    "Compare the performance when using random search with *regression classifier* and *softmax classifier*. You can see how much useful the softmax classifier is."
   ]
  },
  {
   "cell_type": "markdown",
   "metadata": {},
   "source": [
    "## Stochastic Gradient descent\n",
    "Even though it is possible to achieve closed-form solution with softmax classifier, it would be more complicated. In fact, we could achieve very good results with gradient descent approach. Additionally, in case of very large dataset, it is impossible to load the whole dataset into the memory. Gradient descent can help to optimize the loss function in batch. \n",
    "\n",
    "$$\\mathbf{W}^{t+1}=\\mathbf{W}^{t}−\\alpha \\frac{\\partial\\mathcal{L(\\mathbf{x};\\mathbf{W}^{t})}}{\\partial\\mathbf{W}^{t}}$$\n",
    "\n",
    "Where $\\alpha$ is the learning rate, $\\mathcal{L}$ is a loss function, and $\\mathbf{x}$ is a batch of training dataset."
   ]
  },
  {
   "cell_type": "code",
   "execution_count": 95,
   "metadata": {
    "collapsed": true
   },
   "outputs": [
    {
     "name": "stdout",
     "output_type": "stream",
     "text": [
      "numerical: 0.314298 analytic: 0.314298, relative error: 6.727397e-09\n",
      "numerical: -0.205724 analytic: -0.205724, relative error: 3.439723e-07\n",
      "numerical: -4.135610 analytic: -4.135610, relative error: 1.106035e-08\n",
      "numerical: -0.130365 analytic: -0.130365, relative error: 1.629861e-07\n",
      "numerical: 1.736210 analytic: 1.736210, relative error: 6.045928e-08\n",
      "numerical: -0.610017 analytic: -0.610017, relative error: 1.838430e-07\n",
      "numerical: -0.090630 analytic: -0.090630, relative error: 4.224436e-07\n",
      "numerical: -0.561299 analytic: -0.561300, relative error: 5.677903e-08\n",
      "numerical: 3.274872 analytic: 3.274871, relative error: 1.467946e-08\n",
      "numerical: 0.616911 analytic: 0.616911, relative error: 5.940815e-08\n",
      "numerical: 1.045915 analytic: 1.045915, relative error: 1.196266e-08\n",
      "numerical: 0.155084 analytic: 0.155084, relative error: 6.266559e-09\n",
      "numerical: 1.130181 analytic: 1.130181, relative error: 3.417914e-08\n",
      "numerical: -2.071270 analytic: -2.071270, relative error: 3.852359e-09\n",
      "numerical: -0.279517 analytic: -0.279518, relative error: 1.068088e-07\n",
      "numerical: 0.135493 analytic: 0.135493, relative error: 4.218991e-07\n",
      "numerical: -0.543203 analytic: -0.543203, relative error: 3.362463e-09\n",
      "numerical: -0.704563 analytic: -0.704563, relative error: 4.681745e-08\n",
      "numerical: -1.520029 analytic: -1.520029, relative error: 1.797614e-08\n",
      "numerical: -0.397769 analytic: -0.397769, relative error: 1.105951e-07\n"
     ]
    }
   ],
   "source": [
    "# Complete the implementation of softmax_loss_naive and implement a (naive)\n",
    "# version of the gradient that uses nested loops.\n",
    "loss, grad = softmax_loss_naive(W, X_dev, y_dev, 0.0)\n",
    "\n",
    "# Use numeric gradient checking as a debugging tool.\n",
    "# The numeric gradient should be close to the analytic gradient.\n",
    "from gradient_check import grad_check_sparse\n",
    "f = lambda w: softmax_loss_naive(w, X_dev, y_dev, 0.0)[0]\n",
    "grad_numerical = grad_check_sparse(f, W, grad, 10)\n",
    "\n",
    "# gradient check with regularization\n",
    "loss, grad = softmax_loss_naive(W, X_dev, y_dev, 1e2)\n",
    "f = lambda w: softmax_loss_naive(w, X_dev, y_dev, 1e2)[0]\n",
    "grad_numerical = grad_check_sparse(f, W, grad, 10)"
   ]
  },
  {
   "cell_type": "code",
   "execution_count": 101,
   "metadata": {
    "collapsed": true
   },
   "outputs": [
    {
     "name": "stdout",
     "output_type": "stream",
     "text": [
      "naive loss: 2.341679e+00 computed in 0.121409s\n",
      "vectorized loss: 1.292352e+00 computed in 0.003381s\n",
      "Loss difference: 1.049327\n",
      "Gradient difference: 0.000000\n"
     ]
    }
   ],
   "source": [
    "# Now that we have a naive implementation of the softmax loss function and its gradient,\n",
    "# implement a vectorized version in softmax_loss_vectorized.\n",
    "# The two versions should compute the same results, but the vectorized version should be\n",
    "# much faster.\n",
    "tic = time.time()\n",
    "loss_naive, grad_naive = softmax_loss_naive(W, X_dev, y_dev, 0.00001)\n",
    "toc = time.time()\n",
    "print('naive loss: %e computed in %fs' % (loss_naive, toc - tic))\n",
    "\n",
    "from classifiers.softmax import softmax_loss_vectorized\n",
    "tic = time.time()\n",
    "loss_vectorized, grad_vectorized = softmax_loss_vectorized(W, X_dev, y_dev, 0.00001)\n",
    "toc = time.time()\n",
    "print('vectorized loss: %e computed in %fs' % (loss_vectorized, toc - tic))\n",
    "\n",
    "# We use the Frobenius norm to compare the two versions\n",
    "# of the gradient.\n",
    "grad_difference = np.linalg.norm(grad_naive - grad_vectorized, ord='fro')\n",
    "print('Loss difference: %f' % np.abs(loss_naive - loss_vectorized))\n",
    "print('Gradient difference: %f' % grad_difference)"
   ]
  },
  {
   "cell_type": "code",
   "execution_count": 103,
   "metadata": {
    "collapsed": true
   },
   "outputs": [
    {
     "name": "stdout",
     "output_type": "stream",
     "text": [
      "iteration 0 / 1500: loss 760.866881\n",
      "iteration 100 / 1500: loss 279.661916\n",
      "iteration 200 / 1500: loss 103.025169\n",
      "iteration 300 / 1500: loss 38.493972\n",
      "iteration 400 / 1500: loss 14.994026\n",
      "iteration 500 / 1500: loss 6.350603\n",
      "iteration 600 / 1500: loss 3.210820\n",
      "iteration 700 / 1500: loss 2.091280\n",
      "iteration 800 / 1500: loss 1.585893\n",
      "iteration 900 / 1500: loss 1.393411\n",
      "iteration 1000 / 1500: loss 1.412442\n",
      "iteration 1100 / 1500: loss 1.395837\n",
      "iteration 1200 / 1500: loss 1.367044\n",
      "iteration 1300 / 1500: loss 1.339592\n",
      "iteration 1400 / 1500: loss 1.431832\n",
      "That took 5.770061s\n"
     ]
    }
   ],
   "source": [
    "from classifiers.linear_classifier import *\n",
    "\n",
    "classifier = Softmax()\n",
    "tic = time.time()\n",
    "loss_hist = classifier.train(X_train, y_train, learning_rate=1e-7, reg=5e4,\n",
    "                                  num_iters=1500, verbose=True)\n",
    "toc = time.time()\n",
    "print('That took %fs' % (toc - tic))"
   ]
  },
  {
   "cell_type": "code",
   "execution_count": 104,
   "metadata": {
    "collapsed": true
   },
   "outputs": [
    {
     "name": "stdout",
     "output_type": "stream",
     "text": [
      "training accuracy: 0.326327\n",
      "validation accuracy: 0.335000\n"
     ]
    }
   ],
   "source": [
    "# Write the Softmax.predict function and evaluate the performance on both the\n",
    "# training and validation set\n",
    "y_train_pred = classifier.predict(X_train)\n",
    "print('training accuracy: %f' % (np.mean(y_train == y_train_pred), ))\n",
    "y_val_pred = classifier.predict(X_val)\n",
    "print('validation accuracy: %f' % (np.mean(y_val == y_val_pred), ))"
   ]
  },
  {
   "cell_type": "code",
   "execution_count": 105,
   "metadata": {
    "collapsed": true
   },
   "outputs": [
    {
     "data": {
      "image/png": "[encoded data removed]",
      "text/plain": [
       "<Figure size 720x576 with 1 Axes>"
      ]
     },
     "metadata": {
      "needs_background": "light"
     },
     "output_type": "display_data"
    }
   ],
   "source": [
    "# A useful debugging strategy is to plot the loss as a function of\n",
    "# iteration number:\n",
    "plt.plot(loss_hist)\n",
    "plt.xlabel('Iteration number')\n",
    "plt.ylabel('Loss value')\n",
    "plt.show()"
   ]
  },
  {
   "cell_type": "code",
   "execution_count": 106,
   "metadata": {
    "collapsed": true
   },
   "outputs": [
    {
     "name": "stdout",
     "output_type": "stream",
     "text": [
      "softmax on raw pixels final test set accuracy: 33.90\n"
     ]
    }
   ],
   "source": [
    "# evaluate on test set\n",
    "# Evaluate the best softmax on test set\n",
    "y_test_pred = classifier.predict(X_test)\n",
    "test_accuracy = np.mean(y_test == y_test_pred)\n",
    "print('softmax on raw pixels final test set accuracy: %.2f' % (100*test_accuracy, ))"
   ]
  },
  {
   "cell_type": "code",
   "execution_count": null,
   "metadata": {},
   "outputs": [],
   "source": []
  }
 ],
 "metadata": {
  "anaconda-cloud": {},
  "kernelspec": {
   "display_name": "Python 3",
   "language": "python",
   "name": "python3"
  },
  "language_info": {
   "codemirror_mode": {
    "name": "ipython",
    "version": 3
   },
   "file_extension": ".py",
   "mimetype": "text/x-python",
   "name": "python",
   "nbconvert_exporter": "python",
   "pygments_lexer": "ipython3",
   "version": "3.8.12"
  }
 },
 "nbformat": 4,
 "nbformat_minor": 1
}
